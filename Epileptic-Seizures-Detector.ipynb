{
 "cells": [
  {
   "cell_type": "markdown",
   "id": "725aa62b",
   "metadata": {},
   "source": [
    "# Epileptic Seizure Detection Using EEG Brain Signals\n",
    "\n"
   ]
  },
  {
   "cell_type": "code",
   "execution_count": 2,
   "id": "dacaa681",
   "metadata": {},
   "outputs": [],
   "source": [
    "import pandas as pd\n",
    "import numpy as np\n",
    "import seaborn as sns\n",
    "import matplotlib.pyplot as plt"
   ]
  },
  {
   "cell_type": "code",
   "execution_count": 3,
   "id": "dc9b88c9",
   "metadata": {},
   "outputs": [],
   "source": [
    "# creating the dataframe\n",
    "\n",
    "data=pd.read_csv('RawData_SNMC_EEG.csv')"
   ]
  },
  {
   "cell_type": "markdown",
   "id": "51e4e85c",
   "metadata": {},
   "source": [
    "## Data Exploration"
   ]
  },
  {
   "cell_type": "code",
   "execution_count": 4,
   "id": "3484286a",
   "metadata": {},
   "outputs": [
    {
     "data": {
      "text/html": [
       "<div>\n",
       "<style scoped>\n",
       "    .dataframe tbody tr th:only-of-type {\n",
       "        vertical-align: middle;\n",
       "    }\n",
       "\n",
       "    .dataframe tbody tr th {\n",
       "        vertical-align: top;\n",
       "    }\n",
       "\n",
       "    .dataframe thead th {\n",
       "        text-align: right;\n",
       "    }\n",
       "</style>\n",
       "<table border=\"1\" class=\"dataframe\">\n",
       "  <thead>\n",
       "    <tr style=\"text-align: right;\">\n",
       "      <th></th>\n",
       "      <th>FP2 - F4</th>\n",
       "      <th>F4 - C4</th>\n",
       "      <th>C4 - P4</th>\n",
       "      <th>P4 - O2</th>\n",
       "      <th>FP2 - F8</th>\n",
       "      <th>F8 - T4</th>\n",
       "      <th>T4 - T6</th>\n",
       "      <th>T6 - O2</th>\n",
       "      <th>FP1 - F3</th>\n",
       "      <th>F3 - C3</th>\n",
       "      <th>C3 - P3</th>\n",
       "      <th>P3 - O1</th>\n",
       "      <th>FP1 - F7</th>\n",
       "      <th>F7 - T3</th>\n",
       "      <th>T3 - T5</th>\n",
       "      <th>T5 - O1</th>\n",
       "      <th>Outcome</th>\n",
       "    </tr>\n",
       "  </thead>\n",
       "  <tbody>\n",
       "    <tr>\n",
       "      <th>0</th>\n",
       "      <td>14</td>\n",
       "      <td>-57</td>\n",
       "      <td>2</td>\n",
       "      <td>1</td>\n",
       "      <td>38</td>\n",
       "      <td>-46</td>\n",
       "      <td>-83</td>\n",
       "      <td>52</td>\n",
       "      <td>-33</td>\n",
       "      <td>-28</td>\n",
       "      <td>-39</td>\n",
       "      <td>64</td>\n",
       "      <td>-65</td>\n",
       "      <td>-30</td>\n",
       "      <td>54</td>\n",
       "      <td>5</td>\n",
       "      <td>0</td>\n",
       "    </tr>\n",
       "    <tr>\n",
       "      <th>1</th>\n",
       "      <td>-7</td>\n",
       "      <td>-81</td>\n",
       "      <td>49</td>\n",
       "      <td>-63</td>\n",
       "      <td>40</td>\n",
       "      <td>-34</td>\n",
       "      <td>-122</td>\n",
       "      <td>15</td>\n",
       "      <td>-23</td>\n",
       "      <td>0</td>\n",
       "      <td>-56</td>\n",
       "      <td>21</td>\n",
       "      <td>-27</td>\n",
       "      <td>12</td>\n",
       "      <td>-59</td>\n",
       "      <td>18</td>\n",
       "      <td>0</td>\n",
       "    </tr>\n",
       "    <tr>\n",
       "      <th>2</th>\n",
       "      <td>-3</td>\n",
       "      <td>-13</td>\n",
       "      <td>-12</td>\n",
       "      <td>-21</td>\n",
       "      <td>45</td>\n",
       "      <td>-32</td>\n",
       "      <td>-101</td>\n",
       "      <td>38</td>\n",
       "      <td>-11</td>\n",
       "      <td>1</td>\n",
       "      <td>-68</td>\n",
       "      <td>11</td>\n",
       "      <td>-2</td>\n",
       "      <td>56</td>\n",
       "      <td>-135</td>\n",
       "      <td>13</td>\n",
       "      <td>0</td>\n",
       "    </tr>\n",
       "    <tr>\n",
       "      <th>3</th>\n",
       "      <td>19</td>\n",
       "      <td>52</td>\n",
       "      <td>-86</td>\n",
       "      <td>86</td>\n",
       "      <td>48</td>\n",
       "      <td>-44</td>\n",
       "      <td>-48</td>\n",
       "      <td>114</td>\n",
       "      <td>-19</td>\n",
       "      <td>-25</td>\n",
       "      <td>-48</td>\n",
       "      <td>33</td>\n",
       "      <td>-11</td>\n",
       "      <td>34</td>\n",
       "      <td>-78</td>\n",
       "      <td>-5</td>\n",
       "      <td>0</td>\n",
       "    </tr>\n",
       "    <tr>\n",
       "      <th>4</th>\n",
       "      <td>39</td>\n",
       "      <td>34</td>\n",
       "      <td>-92</td>\n",
       "      <td>107</td>\n",
       "      <td>52</td>\n",
       "      <td>-53</td>\n",
       "      <td>-39</td>\n",
       "      <td>129</td>\n",
       "      <td>-34</td>\n",
       "      <td>-49</td>\n",
       "      <td>-29</td>\n",
       "      <td>63</td>\n",
       "      <td>-52</td>\n",
       "      <td>-18</td>\n",
       "      <td>36</td>\n",
       "      <td>-16</td>\n",
       "      <td>0</td>\n",
       "    </tr>\n",
       "    <tr>\n",
       "      <th>...</th>\n",
       "      <td>...</td>\n",
       "      <td>...</td>\n",
       "      <td>...</td>\n",
       "      <td>...</td>\n",
       "      <td>...</td>\n",
       "      <td>...</td>\n",
       "      <td>...</td>\n",
       "      <td>...</td>\n",
       "      <td>...</td>\n",
       "      <td>...</td>\n",
       "      <td>...</td>\n",
       "      <td>...</td>\n",
       "      <td>...</td>\n",
       "      <td>...</td>\n",
       "      <td>...</td>\n",
       "      <td>...</td>\n",
       "      <td>...</td>\n",
       "    </tr>\n",
       "    <tr>\n",
       "      <th>87025</th>\n",
       "      <td>-103</td>\n",
       "      <td>-1651</td>\n",
       "      <td>1504</td>\n",
       "      <td>39</td>\n",
       "      <td>-1041</td>\n",
       "      <td>-5</td>\n",
       "      <td>-3901</td>\n",
       "      <td>4736</td>\n",
       "      <td>-9</td>\n",
       "      <td>-61</td>\n",
       "      <td>36</td>\n",
       "      <td>-42</td>\n",
       "      <td>-52</td>\n",
       "      <td>-35</td>\n",
       "      <td>-73</td>\n",
       "      <td>85</td>\n",
       "      <td>1</td>\n",
       "    </tr>\n",
       "    <tr>\n",
       "      <th>87026</th>\n",
       "      <td>-103</td>\n",
       "      <td>-1642</td>\n",
       "      <td>1494</td>\n",
       "      <td>45</td>\n",
       "      <td>-1052</td>\n",
       "      <td>-28</td>\n",
       "      <td>-3962</td>\n",
       "      <td>4836</td>\n",
       "      <td>10</td>\n",
       "      <td>-89</td>\n",
       "      <td>57</td>\n",
       "      <td>-78</td>\n",
       "      <td>-56</td>\n",
       "      <td>-46</td>\n",
       "      <td>-85</td>\n",
       "      <td>89</td>\n",
       "      <td>1</td>\n",
       "    </tr>\n",
       "    <tr>\n",
       "      <th>87027</th>\n",
       "      <td>-116</td>\n",
       "      <td>-1627</td>\n",
       "      <td>1486</td>\n",
       "      <td>67</td>\n",
       "      <td>-1075</td>\n",
       "      <td>-51</td>\n",
       "      <td>-3783</td>\n",
       "      <td>4718</td>\n",
       "      <td>-11</td>\n",
       "      <td>-56</td>\n",
       "      <td>24</td>\n",
       "      <td>23</td>\n",
       "      <td>-29</td>\n",
       "      <td>-4</td>\n",
       "      <td>-78</td>\n",
       "      <td>92</td>\n",
       "      <td>1</td>\n",
       "    </tr>\n",
       "    <tr>\n",
       "      <th>87028</th>\n",
       "      <td>-121</td>\n",
       "      <td>-1621</td>\n",
       "      <td>1487</td>\n",
       "      <td>65</td>\n",
       "      <td>-1074</td>\n",
       "      <td>-21</td>\n",
       "      <td>-3856</td>\n",
       "      <td>4761</td>\n",
       "      <td>-41</td>\n",
       "      <td>-4</td>\n",
       "      <td>-25</td>\n",
       "      <td>122</td>\n",
       "      <td>-11</td>\n",
       "      <td>43</td>\n",
       "      <td>-60</td>\n",
       "      <td>80</td>\n",
       "      <td>1</td>\n",
       "    </tr>\n",
       "    <tr>\n",
       "      <th>87029</th>\n",
       "      <td>-111</td>\n",
       "      <td>-1625</td>\n",
       "      <td>1491</td>\n",
       "      <td>40</td>\n",
       "      <td>-1033</td>\n",
       "      <td>6</td>\n",
       "      <td>-4013</td>\n",
       "      <td>4836</td>\n",
       "      <td>-40</td>\n",
       "      <td>-1</td>\n",
       "      <td>-26</td>\n",
       "      <td>88</td>\n",
       "      <td>-27</td>\n",
       "      <td>36</td>\n",
       "      <td>-53</td>\n",
       "      <td>65</td>\n",
       "      <td>1</td>\n",
       "    </tr>\n",
       "  </tbody>\n",
       "</table>\n",
       "<p>87030 rows × 17 columns</p>\n",
       "</div>"
      ],
      "text/plain": [
       "       FP2 - F4  F4 - C4  C4 - P4  P4 - O2  FP2 - F8  F8 - T4  T4 - T6  \\\n",
       "0            14      -57        2        1        38      -46      -83   \n",
       "1            -7      -81       49      -63        40      -34     -122   \n",
       "2            -3      -13      -12      -21        45      -32     -101   \n",
       "3            19       52      -86       86        48      -44      -48   \n",
       "4            39       34      -92      107        52      -53      -39   \n",
       "...         ...      ...      ...      ...       ...      ...      ...   \n",
       "87025      -103    -1651     1504       39     -1041       -5    -3901   \n",
       "87026      -103    -1642     1494       45     -1052      -28    -3962   \n",
       "87027      -116    -1627     1486       67     -1075      -51    -3783   \n",
       "87028      -121    -1621     1487       65     -1074      -21    -3856   \n",
       "87029      -111    -1625     1491       40     -1033        6    -4013   \n",
       "\n",
       "       T6 - O2  FP1 - F3  F3 - C3  C3 - P3  P3 - O1  FP1 - F7  F7 - T3  \\\n",
       "0           52       -33      -28      -39       64       -65      -30   \n",
       "1           15       -23        0      -56       21       -27       12   \n",
       "2           38       -11        1      -68       11        -2       56   \n",
       "3          114       -19      -25      -48       33       -11       34   \n",
       "4          129       -34      -49      -29       63       -52      -18   \n",
       "...        ...       ...      ...      ...      ...       ...      ...   \n",
       "87025     4736        -9      -61       36      -42       -52      -35   \n",
       "87026     4836        10      -89       57      -78       -56      -46   \n",
       "87027     4718       -11      -56       24       23       -29       -4   \n",
       "87028     4761       -41       -4      -25      122       -11       43   \n",
       "87029     4836       -40       -1      -26       88       -27       36   \n",
       "\n",
       "       T3 - T5  T5 - O1  Outcome  \n",
       "0           54        5        0  \n",
       "1          -59       18        0  \n",
       "2         -135       13        0  \n",
       "3          -78       -5        0  \n",
       "4           36      -16        0  \n",
       "...        ...      ...      ...  \n",
       "87025      -73       85        1  \n",
       "87026      -85       89        1  \n",
       "87027      -78       92        1  \n",
       "87028      -60       80        1  \n",
       "87029      -53       65        1  \n",
       "\n",
       "[87030 rows x 17 columns]"
      ]
     },
     "execution_count": 4,
     "metadata": {},
     "output_type": "execute_result"
    }
   ],
   "source": [
    "data.head(-10)"
   ]
  },
  {
   "cell_type": "code",
   "execution_count": 5,
   "id": "c8199900",
   "metadata": {},
   "outputs": [
    {
     "data": {
      "text/plain": [
       "(87040, 17)"
      ]
     },
     "execution_count": 5,
     "metadata": {},
     "output_type": "execute_result"
    }
   ],
   "source": [
    "# to know the shape of the dataframe\n",
    "data.shape"
   ]
  },
  {
   "cell_type": "code",
   "execution_count": 6,
   "id": "c30d08a9",
   "metadata": {},
   "outputs": [
    {
     "name": "stdout",
     "output_type": "stream",
     "text": [
      "<class 'pandas.core.frame.DataFrame'>\n",
      "RangeIndex: 87040 entries, 0 to 87039\n",
      "Data columns (total 17 columns):\n",
      " #   Column    Non-Null Count  Dtype\n",
      "---  ------    --------------  -----\n",
      " 0   FP2 - F4  87040 non-null  int64\n",
      " 1   F4 - C4   87040 non-null  int64\n",
      " 2   C4 - P4   87040 non-null  int64\n",
      " 3   P4 - O2   87040 non-null  int64\n",
      " 4   FP2 - F8  87040 non-null  int64\n",
      " 5   F8 - T4   87040 non-null  int64\n",
      " 6   T4 - T6   87040 non-null  int64\n",
      " 7   T6 - O2   87040 non-null  int64\n",
      " 8   FP1 - F3  87040 non-null  int64\n",
      " 9   F3 - C3   87040 non-null  int64\n",
      " 10  C3 - P3   87040 non-null  int64\n",
      " 11  P3 - O1   87040 non-null  int64\n",
      " 12  FP1 - F7  87040 non-null  int64\n",
      " 13  F7 - T3   87040 non-null  int64\n",
      " 14  T3 - T5   87040 non-null  int64\n",
      " 15  T5 - O1   87040 non-null  int64\n",
      " 16  Outcome   87040 non-null  int64\n",
      "dtypes: int64(17)\n",
      "memory usage: 11.3 MB\n"
     ]
    }
   ],
   "source": [
    "data.info()"
   ]
  },
  {
   "cell_type": "code",
   "execution_count": 7,
   "id": "9f27b939",
   "metadata": {},
   "outputs": [
    {
     "data": {
      "text/plain": [
       "FP2 - F4    0\n",
       "F4 - C4     0\n",
       "C4 - P4     0\n",
       "P4 - O2     0\n",
       "FP2 - F8    0\n",
       "F8 - T4     0\n",
       "T4 - T6     0\n",
       "T6 - O2     0\n",
       "FP1 - F3    0\n",
       "F3 - C3     0\n",
       "C3 - P3     0\n",
       "P3 - O1     0\n",
       "FP1 - F7    0\n",
       "F7 - T3     0\n",
       "T3 - T5     0\n",
       "T5 - O1     0\n",
       "Outcome     0\n",
       "dtype: int64"
      ]
     },
     "execution_count": 7,
     "metadata": {},
     "output_type": "execute_result"
    }
   ],
   "source": [
    "# to find out if there are missing values in the dataset\n",
    "data.isnull().sum()"
   ]
  },
  {
   "cell_type": "markdown",
   "id": "6c46de42",
   "metadata": {},
   "source": [
    "We can see that there are no missing values in the dataset."
   ]
  },
  {
   "cell_type": "code",
   "execution_count": 8,
   "id": "d1f42148",
   "metadata": {},
   "outputs": [
    {
     "data": {
      "text/html": [
       "<div>\n",
       "<style scoped>\n",
       "    .dataframe tbody tr th:only-of-type {\n",
       "        vertical-align: middle;\n",
       "    }\n",
       "\n",
       "    .dataframe tbody tr th {\n",
       "        vertical-align: top;\n",
       "    }\n",
       "\n",
       "    .dataframe thead th {\n",
       "        text-align: right;\n",
       "    }\n",
       "</style>\n",
       "<table border=\"1\" class=\"dataframe\">\n",
       "  <thead>\n",
       "    <tr style=\"text-align: right;\">\n",
       "      <th></th>\n",
       "      <th>FP2 - F4</th>\n",
       "      <th>F4 - C4</th>\n",
       "      <th>C4 - P4</th>\n",
       "      <th>P4 - O2</th>\n",
       "      <th>FP2 - F8</th>\n",
       "      <th>F8 - T4</th>\n",
       "      <th>T4 - T6</th>\n",
       "      <th>T6 - O2</th>\n",
       "      <th>FP1 - F3</th>\n",
       "      <th>F3 - C3</th>\n",
       "      <th>C3 - P3</th>\n",
       "      <th>P3 - O1</th>\n",
       "      <th>FP1 - F7</th>\n",
       "      <th>F7 - T3</th>\n",
       "      <th>T3 - T5</th>\n",
       "      <th>T5 - O1</th>\n",
       "      <th>Outcome</th>\n",
       "    </tr>\n",
       "  </thead>\n",
       "  <tbody>\n",
       "    <tr>\n",
       "      <th>count</th>\n",
       "      <td>87040.000000</td>\n",
       "      <td>87040.000000</td>\n",
       "      <td>87040.000000</td>\n",
       "      <td>87040.000000</td>\n",
       "      <td>87040.000000</td>\n",
       "      <td>87040.000000</td>\n",
       "      <td>87040.000000</td>\n",
       "      <td>87040.000000</td>\n",
       "      <td>87040.000000</td>\n",
       "      <td>87040.000000</td>\n",
       "      <td>87040.000000</td>\n",
       "      <td>87040.000000</td>\n",
       "      <td>87040.000000</td>\n",
       "      <td>87040.000000</td>\n",
       "      <td>87040.000000</td>\n",
       "      <td>87040.000000</td>\n",
       "      <td>87040.000000</td>\n",
       "    </tr>\n",
       "    <tr>\n",
       "      <th>mean</th>\n",
       "      <td>0.363660</td>\n",
       "      <td>-56.294187</td>\n",
       "      <td>20.964717</td>\n",
       "      <td>6.765361</td>\n",
       "      <td>-19.447231</td>\n",
       "      <td>-51.995255</td>\n",
       "      <td>-40.223840</td>\n",
       "      <td>83.599897</td>\n",
       "      <td>15.515211</td>\n",
       "      <td>-18.245083</td>\n",
       "      <td>-4.309524</td>\n",
       "      <td>19.311765</td>\n",
       "      <td>-26.667773</td>\n",
       "      <td>17.200747</td>\n",
       "      <td>-14.235823</td>\n",
       "      <td>35.252930</td>\n",
       "      <td>0.500000</td>\n",
       "    </tr>\n",
       "    <tr>\n",
       "      <th>std</th>\n",
       "      <td>516.591736</td>\n",
       "      <td>568.735841</td>\n",
       "      <td>506.603956</td>\n",
       "      <td>446.376444</td>\n",
       "      <td>748.123209</td>\n",
       "      <td>631.772366</td>\n",
       "      <td>903.225902</td>\n",
       "      <td>1032.287941</td>\n",
       "      <td>592.257435</td>\n",
       "      <td>600.144831</td>\n",
       "      <td>507.931378</td>\n",
       "      <td>616.825404</td>\n",
       "      <td>553.172245</td>\n",
       "      <td>553.999391</td>\n",
       "      <td>533.952403</td>\n",
       "      <td>675.086055</td>\n",
       "      <td>0.500003</td>\n",
       "    </tr>\n",
       "    <tr>\n",
       "      <th>min</th>\n",
       "      <td>-9370.000000</td>\n",
       "      <td>-9370.000000</td>\n",
       "      <td>-9184.000000</td>\n",
       "      <td>-9074.000000</td>\n",
       "      <td>-9333.000000</td>\n",
       "      <td>-9335.000000</td>\n",
       "      <td>-9332.000000</td>\n",
       "      <td>-9334.000000</td>\n",
       "      <td>-9334.000000</td>\n",
       "      <td>-9334.000000</td>\n",
       "      <td>-9148.000000</td>\n",
       "      <td>-9372.000000</td>\n",
       "      <td>-9442.000000</td>\n",
       "      <td>-9370.000000</td>\n",
       "      <td>-9334.000000</td>\n",
       "      <td>-9185.000000</td>\n",
       "      <td>0.000000</td>\n",
       "    </tr>\n",
       "    <tr>\n",
       "      <th>25%</th>\n",
       "      <td>-52.000000</td>\n",
       "      <td>-60.000000</td>\n",
       "      <td>-56.000000</td>\n",
       "      <td>-58.000000</td>\n",
       "      <td>-111.000000</td>\n",
       "      <td>-75.000000</td>\n",
       "      <td>-75.000000</td>\n",
       "      <td>-48.000000</td>\n",
       "      <td>-54.000000</td>\n",
       "      <td>-67.000000</td>\n",
       "      <td>-49.000000</td>\n",
       "      <td>-74.000000</td>\n",
       "      <td>-77.000000</td>\n",
       "      <td>-53.000000</td>\n",
       "      <td>-90.000000</td>\n",
       "      <td>-37.000000</td>\n",
       "      <td>0.000000</td>\n",
       "    </tr>\n",
       "    <tr>\n",
       "      <th>50%</th>\n",
       "      <td>0.000000</td>\n",
       "      <td>-7.000000</td>\n",
       "      <td>-5.000000</td>\n",
       "      <td>0.000000</td>\n",
       "      <td>2.000000</td>\n",
       "      <td>-22.000000</td>\n",
       "      <td>-2.000000</td>\n",
       "      <td>12.000000</td>\n",
       "      <td>-8.000000</td>\n",
       "      <td>-7.000000</td>\n",
       "      <td>0.000000</td>\n",
       "      <td>3.000000</td>\n",
       "      <td>-15.000000</td>\n",
       "      <td>0.000000</td>\n",
       "      <td>-1.000000</td>\n",
       "      <td>15.000000</td>\n",
       "      <td>0.500000</td>\n",
       "    </tr>\n",
       "    <tr>\n",
       "      <th>75%</th>\n",
       "      <td>42.000000</td>\n",
       "      <td>30.000000</td>\n",
       "      <td>50.000000</td>\n",
       "      <td>54.000000</td>\n",
       "      <td>71.000000</td>\n",
       "      <td>37.000000</td>\n",
       "      <td>54.000000</td>\n",
       "      <td>112.000000</td>\n",
       "      <td>46.000000</td>\n",
       "      <td>30.000000</td>\n",
       "      <td>40.000000</td>\n",
       "      <td>67.000000</td>\n",
       "      <td>35.000000</td>\n",
       "      <td>58.000000</td>\n",
       "      <td>51.000000</td>\n",
       "      <td>65.000000</td>\n",
       "      <td>1.000000</td>\n",
       "    </tr>\n",
       "    <tr>\n",
       "      <th>max</th>\n",
       "      <td>9370.000000</td>\n",
       "      <td>9197.000000</td>\n",
       "      <td>9334.000000</td>\n",
       "      <td>9221.000000</td>\n",
       "      <td>9292.000000</td>\n",
       "      <td>9405.000000</td>\n",
       "      <td>9297.000000</td>\n",
       "      <td>9333.000000</td>\n",
       "      <td>9445.000000</td>\n",
       "      <td>9373.000000</td>\n",
       "      <td>9371.000000</td>\n",
       "      <td>9443.000000</td>\n",
       "      <td>9296.000000</td>\n",
       "      <td>9371.000000</td>\n",
       "      <td>9332.000000</td>\n",
       "      <td>9334.000000</td>\n",
       "      <td>1.000000</td>\n",
       "    </tr>\n",
       "  </tbody>\n",
       "</table>\n",
       "</div>"
      ],
      "text/plain": [
       "           FP2 - F4       F4 - C4       C4 - P4       P4 - O2      FP2 - F8  \\\n",
       "count  87040.000000  87040.000000  87040.000000  87040.000000  87040.000000   \n",
       "mean       0.363660    -56.294187     20.964717      6.765361    -19.447231   \n",
       "std      516.591736    568.735841    506.603956    446.376444    748.123209   \n",
       "min    -9370.000000  -9370.000000  -9184.000000  -9074.000000  -9333.000000   \n",
       "25%      -52.000000    -60.000000    -56.000000    -58.000000   -111.000000   \n",
       "50%        0.000000     -7.000000     -5.000000      0.000000      2.000000   \n",
       "75%       42.000000     30.000000     50.000000     54.000000     71.000000   \n",
       "max     9370.000000   9197.000000   9334.000000   9221.000000   9292.000000   \n",
       "\n",
       "            F8 - T4       T4 - T6       T6 - O2      FP1 - F3       F3 - C3  \\\n",
       "count  87040.000000  87040.000000  87040.000000  87040.000000  87040.000000   \n",
       "mean     -51.995255    -40.223840     83.599897     15.515211    -18.245083   \n",
       "std      631.772366    903.225902   1032.287941    592.257435    600.144831   \n",
       "min    -9335.000000  -9332.000000  -9334.000000  -9334.000000  -9334.000000   \n",
       "25%      -75.000000    -75.000000    -48.000000    -54.000000    -67.000000   \n",
       "50%      -22.000000     -2.000000     12.000000     -8.000000     -7.000000   \n",
       "75%       37.000000     54.000000    112.000000     46.000000     30.000000   \n",
       "max     9405.000000   9297.000000   9333.000000   9445.000000   9373.000000   \n",
       "\n",
       "            C3 - P3       P3 - O1      FP1 - F7       F7 - T3       T3 - T5  \\\n",
       "count  87040.000000  87040.000000  87040.000000  87040.000000  87040.000000   \n",
       "mean      -4.309524     19.311765    -26.667773     17.200747    -14.235823   \n",
       "std      507.931378    616.825404    553.172245    553.999391    533.952403   \n",
       "min    -9148.000000  -9372.000000  -9442.000000  -9370.000000  -9334.000000   \n",
       "25%      -49.000000    -74.000000    -77.000000    -53.000000    -90.000000   \n",
       "50%        0.000000      3.000000    -15.000000      0.000000     -1.000000   \n",
       "75%       40.000000     67.000000     35.000000     58.000000     51.000000   \n",
       "max     9371.000000   9443.000000   9296.000000   9371.000000   9332.000000   \n",
       "\n",
       "            T5 - O1       Outcome  \n",
       "count  87040.000000  87040.000000  \n",
       "mean      35.252930      0.500000  \n",
       "std      675.086055      0.500003  \n",
       "min    -9185.000000      0.000000  \n",
       "25%      -37.000000      0.000000  \n",
       "50%       15.000000      0.500000  \n",
       "75%       65.000000      1.000000  \n",
       "max     9334.000000      1.000000  "
      ]
     },
     "execution_count": 8,
     "metadata": {},
     "output_type": "execute_result"
    }
   ],
   "source": [
    "data.describe()"
   ]
  },
  {
   "cell_type": "code",
   "execution_count": 9,
   "id": "ac6219dc",
   "metadata": {
    "scrolled": true
   },
   "outputs": [
    {
     "data": {
      "image/png": "[encoded data removed]",
      "text/plain": [
       "<Figure size 432x288 with 1 Axes>"
      ]
     },
     "metadata": {
      "needs_background": "light"
     },
     "output_type": "display_data"
    },
    {
     "data": {
      "image/png": "[encoded data removed]",
      "text/plain": [
       "<Figure size 432x288 with 1 Axes>"
      ]
     },
     "metadata": {
      "needs_background": "light"
     },
     "output_type": "display_data"
    },
    {
     "data": {
      "image/png": "[encoded data removed]",
      "text/plain": [
       "<Figure size 432x288 with 1 Axes>"
      ]
     },
     "metadata": {
      "needs_background": "light"
     },
     "output_type": "display_data"
    },
    {
     "data": {
      "image/png": "[encoded data removed]",
      "text/plain": [
       "<Figure size 432x288 with 1 Axes>"
      ]
     },
     "metadata": {
      "needs_background": "light"
     },
     "output_type": "display_data"
    },
    {
     "data": {
      "image/png": "[encoded data removed]",
      "text/plain": [
       "<Figure size 432x288 with 1 Axes>"
      ]
     },
     "metadata": {
      "needs_background": "light"
     },
     "output_type": "display_data"
    },
    {
     "data": {
      "image/png": "[encoded data removed]",
      "text/plain": [
       "<Figure size 432x288 with 1 Axes>"
      ]
     },
     "metadata": {
      "needs_background": "light"
     },
     "output_type": "display_data"
    },
    {
     "data": {
      "image/png": "[encoded data removed]",
      "text/plain": [
       "<Figure size 432x288 with 1 Axes>"
      ]
     },
     "metadata": {
      "needs_background": "light"
     },
     "output_type": "display_data"
    },
    {
     "data": {
      "image/png": "[encoded data removed]",
      "text/plain": [
       "<Figure size 432x288 with 1 Axes>"
      ]
     },
     "metadata": {
      "needs_background": "light"
     },
     "output_type": "display_data"
    },
    {
     "data": {
      "image/png": "[encoded data removed]",
      "text/plain": [
       "<Figure size 432x288 with 1 Axes>"
      ]
     },
     "metadata": {
      "needs_background": "light"
     },
     "output_type": "display_data"
    },
    {
     "data": {
      "image/png": "[encoded data removed]",
      "text/plain": [
       "<Figure size 432x288 with 1 Axes>"
      ]
     },
     "metadata": {
      "needs_background": "light"
     },
     "output_type": "display_data"
    },
    {
     "data": {
      "image/png": "[encoded data removed]",
      "text/plain": [
       "<Figure size 432x288 with 1 Axes>"
      ]
     },
     "metadata": {
      "needs_background": "light"
     },
     "output_type": "display_data"
    },
    {
     "data": {
      "image/png": "[encoded data removed]",
      "text/plain": [
       "<Figure size 432x288 with 1 Axes>"
      ]
     },
     "metadata": {
      "needs_background": "light"
     },
     "output_type": "display_data"
    },
    {
     "data": {
      "image/png": "[encoded data removed]",
      "text/plain": [
       "<Figure size 432x288 with 1 Axes>"
      ]
     },
     "metadata": {
      "needs_background": "light"
     },
     "output_type": "display_data"
    },
    {
     "data": {
      "image/png": "[encoded data removed]",
      "text/plain": [
       "<Figure size 432x288 with 1 Axes>"
      ]
     },
     "metadata": {
      "needs_background": "light"
     },
     "output_type": "display_data"
    },
    {
     "data": {
      "image/png": "[encoded data removed]",
      "text/plain": [
       "<Figure size 432x288 with 1 Axes>"
      ]
     },
     "metadata": {
      "needs_background": "light"
     },
     "output_type": "display_data"
    },
    {
     "data": {
      "image/png": "[encoded data removed]",
      "text/plain": [
       "<Figure size 432x288 with 1 Axes>"
      ]
     },
     "metadata": {
      "needs_background": "light"
     },
     "output_type": "display_data"
    },
    {
     "data": {
      "image/png": "[encoded data removed]",
      "text/plain": [
       "<Figure size 432x288 with 1 Axes>"
      ]
     },
     "metadata": {
      "needs_background": "light"
     },
     "output_type": "display_data"
    }
   ],
   "source": [
    "#distributions for all numeric variables \n",
    "for i in data.columns:\n",
    "    plt.hist(data[i])\n",
    "    plt.title(i)\n",
    "    plt.show()"
   ]
  },
  {
   "cell_type": "code",
   "execution_count": 10,
   "id": "a10a7186",
   "metadata": {},
   "outputs": [],
   "source": [
    "# print(df_num.corr())"
   ]
  },
  {
   "cell_type": "code",
   "execution_count": 11,
   "id": "4ef6b7ee",
   "metadata": {
    "scrolled": true
   },
   "outputs": [
    {
     "data": {
      "text/plain": [
       "<AxesSubplot:>"
      ]
     },
     "execution_count": 11,
     "metadata": {},
     "output_type": "execute_result"
    },
    {
     "data": {
      "image/png": "[encoded data removed]",
      "text/plain": [
       "<Figure size 432x288 with 2 Axes>"
      ]
     },
     "metadata": {
      "needs_background": "light"
     },
     "output_type": "display_data"
    }
   ],
   "source": [
    "sns.heatmap(data.corr())"
   ]
  },
  {
   "cell_type": "code",
   "execution_count": 12,
   "id": "bfc8a8f2",
   "metadata": {},
   "outputs": [],
   "source": [
    "# splitting the data into input and target variable\n",
    "\n",
    "X=data.drop('Outcome', axis=1)\n",
    "y=data['Outcome']"
   ]
  },
  {
   "cell_type": "code",
   "execution_count": 13,
   "id": "fe0a817d",
   "metadata": {},
   "outputs": [
    {
     "data": {
      "text/plain": [
       "(87040, 16)"
      ]
     },
     "execution_count": 13,
     "metadata": {},
     "output_type": "execute_result"
    }
   ],
   "source": [
    "X.shape"
   ]
  },
  {
   "cell_type": "code",
   "execution_count": 14,
   "id": "15c77465",
   "metadata": {},
   "outputs": [
    {
     "data": {
      "text/plain": [
       "(87040,)"
      ]
     },
     "execution_count": 14,
     "metadata": {},
     "output_type": "execute_result"
    }
   ],
   "source": [
    "y.shape "
   ]
  },
  {
   "cell_type": "markdown",
   "id": "83c14733",
   "metadata": {},
   "source": [
    "## Model Building"
   ]
  },
  {
   "cell_type": "markdown",
   "id": "2efcef18",
   "metadata": {},
   "source": [
    "We shall be spitting the dataset twice for each of the classifier model. Once in a 50-50 train-test split and once in a 80-20 train-test split. The different models that we will use are\n",
    "1. k-Nearest Neighbor\n",
    "2. Decision Trees\n",
    "3. Naive Bayes\n",
    "4. Random Forest"
   ]
  },
  {
   "cell_type": "markdown",
   "id": "d20801fc",
   "metadata": {},
   "source": [
    "### 1. k-Nearest Neighbour"
   ]
  },
  {
   "cell_type": "markdown",
   "id": "83673ebb",
   "metadata": {},
   "source": [
    "#### 50% train-test split"
   ]
  },
  {
   "cell_type": "code",
   "execution_count": 15,
   "id": "13544bee",
   "metadata": {},
   "outputs": [],
   "source": [
    "from sklearn.model_selection import train_test_split\n",
    "X_train, X_test, y_train, y_test = train_test_split(X, y, test_size=0.5, random_state=5)"
   ]
  },
  {
   "cell_type": "code",
   "execution_count": 16,
   "id": "06f77dec",
   "metadata": {},
   "outputs": [
    {
     "data": {
      "text/plain": [
       "((43520, 16), (43520,))"
      ]
     },
     "execution_count": 16,
     "metadata": {},
     "output_type": "execute_result"
    }
   ],
   "source": [
    "X_test.shape, y_test.shape"
   ]
  },
  {
   "cell_type": "code",
   "execution_count": 17,
   "id": "51e3e3cb",
   "metadata": {},
   "outputs": [],
   "source": [
    "# KNN Classification\n",
    "\n",
    "from sklearn.neighbors import KNeighborsClassifier\n",
    "kNN_model_1 = KNeighborsClassifier(n_neighbors=1)\n",
    "kNN_model_2 = KNeighborsClassifier(n_neighbors=3)\n",
    "kNN_model_3 = KNeighborsClassifier(n_neighbors=5)\n",
    "kNN_model_4 = KNeighborsClassifier(n_neighbors=7)"
   ]
  },
  {
   "cell_type": "code",
   "execution_count": 18,
   "id": "22e00c39",
   "metadata": {},
   "outputs": [
    {
     "name": "stdout",
     "output_type": "stream",
     "text": [
      "Accuracy: 0.9890395220588235\n"
     ]
    }
   ],
   "source": [
    "# training the model for k=1\n",
    "kNN_model_1.fit(X_train, y_train)\n",
    "\n",
    "# predicting\n",
    "y_pred = kNN_model_1.predict(X_test)\n",
    "\n",
    "# accuracy calculation\n",
    "\n",
    "from sklearn import metrics\n",
    "print(\"Accuracy:\",metrics.accuracy_score(y_test, y_pred))"
   ]
  },
  {
   "cell_type": "code",
   "execution_count": 19,
   "id": "5ad9abf9",
   "metadata": {},
   "outputs": [
    {
     "name": "stdout",
     "output_type": "stream",
     "text": [
      "Precision: 0.9829822086727033\n",
      "Recall: 0.9952547682668387\n"
     ]
    }
   ],
   "source": [
    "print(\"Precision:\",metrics.precision_score(y_test, y_pred))\n",
    "print(\"Recall:\",metrics.recall_score(y_test, y_pred))"
   ]
  },
  {
   "cell_type": "code",
   "execution_count": 20,
   "id": "cafd1a11",
   "metadata": {},
   "outputs": [
    {
     "name": "stdout",
     "output_type": "stream",
     "text": [
      "[[21440   374]\n",
      " [  103 21603]]\n",
      "              precision    recall  f1-score   support\n",
      "\n",
      "           0       1.00      0.98      0.99     21814\n",
      "           1       0.98      1.00      0.99     21706\n",
      "\n",
      "    accuracy                           0.99     43520\n",
      "   macro avg       0.99      0.99      0.99     43520\n",
      "weighted avg       0.99      0.99      0.99     43520\n",
      "\n"
     ]
    }
   ],
   "source": [
    "# Printing the confusion matrix\n",
    "# The columns will show the instances predicted for each label,\n",
    "# and the rows will show the actual number of instances for each label.\n",
    "print(metrics.confusion_matrix(y_test, y_pred))\n",
    "# Printing the precision and recall, among other metrics\n",
    "print(metrics.classification_report(y_test, y_pred))"
   ]
  },
  {
   "cell_type": "code",
   "execution_count": 21,
   "id": "b87152ac",
   "metadata": {},
   "outputs": [
    {
     "name": "stdout",
     "output_type": "stream",
     "text": [
      "Accuracy: 0.9850873161764706\n"
     ]
    }
   ],
   "source": [
    "# for k value=3\n",
    "\n",
    "kNN_model_2.fit(X_train, y_train)\n",
    "\n",
    "# predicting\n",
    "y_pred = kNN_model_2.predict(X_test)\n",
    "\n",
    "# accuracy calculation\n",
    "from sklearn import metrics\n",
    "print(\"Accuracy:\",metrics.accuracy_score(y_test, y_pred))"
   ]
  },
  {
   "cell_type": "code",
   "execution_count": 22,
   "id": "33248383",
   "metadata": {},
   "outputs": [
    {
     "name": "stdout",
     "output_type": "stream",
     "text": [
      "Precision: 0.9753058552661279\n",
      "Recall: 0.9953008384778402\n"
     ]
    }
   ],
   "source": [
    "print(\"Precision:\",metrics.precision_score(y_test, y_pred))\n",
    "print(\"Recall:\",metrics.recall_score(y_test, y_pred))"
   ]
  },
  {
   "cell_type": "code",
   "execution_count": 23,
   "id": "33cdb169",
   "metadata": {},
   "outputs": [
    {
     "name": "stdout",
     "output_type": "stream",
     "text": [
      "[[21267   547]\n",
      " [  102 21604]]\n",
      "              precision    recall  f1-score   support\n",
      "\n",
      "           0       1.00      0.97      0.98     21814\n",
      "           1       0.98      1.00      0.99     21706\n",
      "\n",
      "    accuracy                           0.99     43520\n",
      "   macro avg       0.99      0.99      0.99     43520\n",
      "weighted avg       0.99      0.99      0.99     43520\n",
      "\n"
     ]
    }
   ],
   "source": [
    "print(metrics.confusion_matrix(y_test, y_pred))\n",
    "print(metrics.classification_report(y_test, y_pred))"
   ]
  },
  {
   "cell_type": "code",
   "execution_count": 24,
   "id": "0ef5db3e",
   "metadata": {},
   "outputs": [
    {
     "name": "stdout",
     "output_type": "stream",
     "text": [
      "Accuracy: 0.9813648897058823\n"
     ]
    }
   ],
   "source": [
    "# for k value=5\n",
    "\n",
    "kNN_model_3.fit(X_train, y_train)\n",
    "\n",
    "# predicting\n",
    "y_pred = kNN_model_3.predict(X_test)\n",
    "\n",
    "# accuracy calculation\n",
    "from sklearn import metrics\n",
    "print(\"Accuracy:\",metrics.accuracy_score(y_test, y_pred))"
   ]
  },
  {
   "cell_type": "code",
   "execution_count": 25,
   "id": "33847c6d",
   "metadata": {},
   "outputs": [
    {
     "name": "stdout",
     "output_type": "stream",
     "text": [
      "Precision: 0.9680989291634929\n",
      "Recall: 0.9954390491108449\n"
     ]
    }
   ],
   "source": [
    "print(\"Precision:\",metrics.precision_score(y_test, y_pred))\n",
    "print(\"Recall:\",metrics.recall_score(y_test, y_pred))"
   ]
  },
  {
   "cell_type": "code",
   "execution_count": 26,
   "id": "14e6cf6f",
   "metadata": {},
   "outputs": [
    {
     "name": "stdout",
     "output_type": "stream",
     "text": [
      "[[21102   712]\n",
      " [   99 21607]]\n",
      "              precision    recall  f1-score   support\n",
      "\n",
      "           0       1.00      0.97      0.98     21814\n",
      "           1       0.97      1.00      0.98     21706\n",
      "\n",
      "    accuracy                           0.98     43520\n",
      "   macro avg       0.98      0.98      0.98     43520\n",
      "weighted avg       0.98      0.98      0.98     43520\n",
      "\n"
     ]
    }
   ],
   "source": [
    "print(metrics.confusion_matrix(y_test, y_pred))\n",
    "\n",
    "print(metrics.classification_report(y_test, y_pred))"
   ]
  },
  {
   "cell_type": "code",
   "execution_count": 27,
   "id": "9f1ab2f3",
   "metadata": {},
   "outputs": [
    {
     "name": "stdout",
     "output_type": "stream",
     "text": [
      "Accuracy: 0.9783088235294117\n"
     ]
    }
   ],
   "source": [
    "# for k value=7\n",
    "\n",
    "kNN_model_4.fit(X_train, y_train)\n",
    "\n",
    "# predicting\n",
    "y_pred = kNN_model_4.predict(X_test)\n",
    "\n",
    "# accuracy calculation\n",
    "from sklearn import metrics\n",
    "print(\"Accuracy:\",metrics.accuracy_score(y_test, y_pred))"
   ]
  },
  {
   "cell_type": "code",
   "execution_count": 28,
   "id": "aef88870",
   "metadata": {},
   "outputs": [
    {
     "name": "stdout",
     "output_type": "stream",
     "text": [
      "Precision: 0.9626114081996435\n",
      "Recall: 0.9951626278448356\n"
     ]
    }
   ],
   "source": [
    "print(\"Precision:\",metrics.precision_score(y_test, y_pred))\n",
    "print(\"Recall:\",metrics.recall_score(y_test, y_pred))"
   ]
  },
  {
   "cell_type": "code",
   "execution_count": 29,
   "id": "370fa74d",
   "metadata": {},
   "outputs": [
    {
     "name": "stdout",
     "output_type": "stream",
     "text": [
      "[[20975   839]\n",
      " [  105 21601]]\n",
      "              precision    recall  f1-score   support\n",
      "\n",
      "           0       1.00      0.96      0.98     21814\n",
      "           1       0.96      1.00      0.98     21706\n",
      "\n",
      "    accuracy                           0.98     43520\n",
      "   macro avg       0.98      0.98      0.98     43520\n",
      "weighted avg       0.98      0.98      0.98     43520\n",
      "\n"
     ]
    }
   ],
   "source": [
    "print(metrics.confusion_matrix(y_test, y_pred))\n",
    "\n",
    "print(metrics.classification_report(y_test, y_pred))"
   ]
  },
  {
   "cell_type": "markdown",
   "id": "44c79e1d",
   "metadata": {},
   "source": [
    "#### 80% train-test split"
   ]
  },
  {
   "cell_type": "code",
   "execution_count": 30,
   "id": "d20df6c2",
   "metadata": {},
   "outputs": [],
   "source": [
    "X_train, X_test, y_train, y_test = train_test_split(X, y, test_size=0.2, random_state=5)"
   ]
  },
  {
   "cell_type": "code",
   "execution_count": 31,
   "id": "8d8afdc3",
   "metadata": {},
   "outputs": [
    {
     "data": {
      "text/plain": [
       "((17408, 16), (17408,))"
      ]
     },
     "execution_count": 31,
     "metadata": {},
     "output_type": "execute_result"
    }
   ],
   "source": [
    "X_test.shape, y_test.shape"
   ]
  },
  {
   "cell_type": "code",
   "execution_count": 32,
   "id": "69412e03",
   "metadata": {},
   "outputs": [
    {
     "data": {
      "text/plain": [
       "(87040, 16)"
      ]
     },
     "execution_count": 32,
     "metadata": {},
     "output_type": "execute_result"
    }
   ],
   "source": [
    "X.shape"
   ]
  },
  {
   "cell_type": "code",
   "execution_count": 33,
   "id": "815c7331",
   "metadata": {},
   "outputs": [],
   "source": [
    "# KNN Classification\n",
    "\n",
    "kNN_model_5 = KNeighborsClassifier(n_neighbors=1)\n",
    "kNN_model_6 = KNeighborsClassifier(n_neighbors=3)\n",
    "kNN_model_7 = KNeighborsClassifier(n_neighbors=5)\n",
    "kNN_model_8 = KNeighborsClassifier(n_neighbors=7)"
   ]
  },
  {
   "cell_type": "code",
   "execution_count": 34,
   "id": "e51e04c7",
   "metadata": {},
   "outputs": [
    {
     "name": "stdout",
     "output_type": "stream",
     "text": [
      "Accuracy: 0.9897748161764706\n"
     ]
    }
   ],
   "source": [
    "# training the model for k=1\n",
    "kNN_model_5.fit(X_train, y_train)\n",
    "\n",
    "# predicting\n",
    "y_pred = kNN_model_5.predict(X_test)\n",
    "\n",
    "# accuracy calculation\n",
    "\n",
    "from sklearn import metrics\n",
    "print(\"Accuracy:\",metrics.accuracy_score(y_test, y_pred))"
   ]
  },
  {
   "cell_type": "code",
   "execution_count": 35,
   "id": "053a4eaf",
   "metadata": {},
   "outputs": [
    {
     "name": "stdout",
     "output_type": "stream",
     "text": [
      "Precision: 0.9849846433852804\n",
      "Recall: 0.9947156806433084\n"
     ]
    }
   ],
   "source": [
    "print(\"Precision:\",metrics.precision_score(y_test, y_pred))\n",
    "print(\"Recall:\",metrics.recall_score(y_test, y_pred))"
   ]
  },
  {
   "cell_type": "code",
   "execution_count": 36,
   "id": "bae5047a",
   "metadata": {},
   "outputs": [
    {
     "name": "stdout",
     "output_type": "stream",
     "text": [
      "[[8571  132]\n",
      " [  46 8659]]\n",
      "              precision    recall  f1-score   support\n",
      "\n",
      "           0       0.99      0.98      0.99      8703\n",
      "           1       0.98      0.99      0.99      8705\n",
      "\n",
      "    accuracy                           0.99     17408\n",
      "   macro avg       0.99      0.99      0.99     17408\n",
      "weighted avg       0.99      0.99      0.99     17408\n",
      "\n"
     ]
    }
   ],
   "source": [
    "print(metrics.confusion_matrix(y_test, y_pred))\n",
    "\n",
    "print(metrics.classification_report(y_test, y_pred))"
   ]
  },
  {
   "cell_type": "code",
   "execution_count": 37,
   "id": "479d430a",
   "metadata": {},
   "outputs": [
    {
     "name": "stdout",
     "output_type": "stream",
     "text": [
      "Accuracy: 0.9880514705882353\n"
     ]
    }
   ],
   "source": [
    "# training the model for k=3\n",
    "kNN_model_6.fit(X_train, y_train)\n",
    "\n",
    "# predicting\n",
    "y_pred = kNN_model_6.predict(X_test)\n",
    "\n",
    "# accuracy calculation\n",
    "\n",
    "from sklearn import metrics\n",
    "print(\"Accuracy:\",metrics.accuracy_score(y_test, y_pred))"
   ]
  },
  {
   "cell_type": "code",
   "execution_count": 38,
   "id": "01af709b",
   "metadata": {},
   "outputs": [
    {
     "name": "stdout",
     "output_type": "stream",
     "text": [
      "Precision: 0.9817439619004422\n",
      "Recall: 0.9946008041355543\n"
     ]
    }
   ],
   "source": [
    "print(\"Precision:\",metrics.precision_score(y_test, y_pred))\n",
    "print(\"Recall:\",metrics.recall_score(y_test, y_pred))"
   ]
  },
  {
   "cell_type": "code",
   "execution_count": 39,
   "id": "4d91dde4",
   "metadata": {},
   "outputs": [
    {
     "name": "stdout",
     "output_type": "stream",
     "text": [
      "[[8542  161]\n",
      " [  47 8658]]\n",
      "              precision    recall  f1-score   support\n",
      "\n",
      "           0       0.99      0.98      0.99      8703\n",
      "           1       0.98      0.99      0.99      8705\n",
      "\n",
      "    accuracy                           0.99     17408\n",
      "   macro avg       0.99      0.99      0.99     17408\n",
      "weighted avg       0.99      0.99      0.99     17408\n",
      "\n"
     ]
    }
   ],
   "source": [
    "print(metrics.confusion_matrix(y_test, y_pred))\n",
    "\n",
    "print(metrics.classification_report(y_test, y_pred))"
   ]
  },
  {
   "cell_type": "code",
   "execution_count": 40,
   "id": "9f5e9189",
   "metadata": {},
   "outputs": [
    {
     "name": "stdout",
     "output_type": "stream",
     "text": [
      "Accuracy: 0.9852366727941176\n"
     ]
    }
   ],
   "source": [
    "# training the model for k=5\n",
    "kNN_model_7.fit(X_train, y_train)\n",
    "\n",
    "# predicting\n",
    "y_pred = kNN_model_7.predict(X_test)\n",
    "\n",
    "# accuracy calculation\n",
    "\n",
    "from sklearn import metrics\n",
    "print(\"Accuracy:\",metrics.accuracy_score(y_test, y_pred))"
   ]
  },
  {
   "cell_type": "code",
   "execution_count": 41,
   "id": "16651826",
   "metadata": {},
   "outputs": [
    {
     "name": "stdout",
     "output_type": "stream",
     "text": [
      "Precision: 0.9765342960288809\n",
      "Recall: 0.994371051120046\n"
     ]
    }
   ],
   "source": [
    "print(\"Precision:\",metrics.precision_score(y_test, y_pred))\n",
    "print(\"Recall:\",metrics.recall_score(y_test, y_pred))"
   ]
  },
  {
   "cell_type": "code",
   "execution_count": 42,
   "id": "26e8b50f",
   "metadata": {},
   "outputs": [
    {
     "name": "stdout",
     "output_type": "stream",
     "text": [
      "[[8495  208]\n",
      " [  49 8656]]\n",
      "              precision    recall  f1-score   support\n",
      "\n",
      "           0       0.99      0.98      0.99      8703\n",
      "           1       0.98      0.99      0.99      8705\n",
      "\n",
      "    accuracy                           0.99     17408\n",
      "   macro avg       0.99      0.99      0.99     17408\n",
      "weighted avg       0.99      0.99      0.99     17408\n",
      "\n"
     ]
    }
   ],
   "source": [
    "print(metrics.confusion_matrix(y_test, y_pred))\n",
    "\n",
    "print(metrics.classification_report(y_test, y_pred))"
   ]
  },
  {
   "cell_type": "code",
   "execution_count": 43,
   "id": "2fa48110",
   "metadata": {},
   "outputs": [
    {
     "name": "stdout",
     "output_type": "stream",
     "text": [
      "Accuracy: 0.9824793198529411\n"
     ]
    }
   ],
   "source": [
    "# training the model for k=7\n",
    "kNN_model_8.fit(X_train, y_train)\n",
    "\n",
    "# predicting\n",
    "y_pred = kNN_model_8.predict(X_test)\n",
    "\n",
    "# accuracy calculation\n",
    "\n",
    "from sklearn import metrics\n",
    "print(\"Accuracy:\",metrics.accuracy_score(y_test, y_pred))"
   ]
  },
  {
   "cell_type": "code",
   "execution_count": 44,
   "id": "6a8646b2",
   "metadata": {},
   "outputs": [
    {
     "name": "stdout",
     "output_type": "stream",
     "text": [
      "Precision: 0.9710632570659489\n",
      "Recall: 0.9946008041355543\n"
     ]
    }
   ],
   "source": [
    "print(\"Precision:\",metrics.precision_score(y_test, y_pred))\n",
    "print(\"Recall:\",metrics.recall_score(y_test, y_pred))"
   ]
  },
  {
   "cell_type": "code",
   "execution_count": 45,
   "id": "fadb85e7",
   "metadata": {},
   "outputs": [
    {
     "name": "stdout",
     "output_type": "stream",
     "text": [
      "[[8445  258]\n",
      " [  47 8658]]\n",
      "              precision    recall  f1-score   support\n",
      "\n",
      "           0       0.99      0.97      0.98      8703\n",
      "           1       0.97      0.99      0.98      8705\n",
      "\n",
      "    accuracy                           0.98     17408\n",
      "   macro avg       0.98      0.98      0.98     17408\n",
      "weighted avg       0.98      0.98      0.98     17408\n",
      "\n"
     ]
    }
   ],
   "source": [
    "print(metrics.confusion_matrix(y_test, y_pred))\n",
    "\n",
    "print(metrics.classification_report(y_test, y_pred))"
   ]
  },
  {
   "cell_type": "markdown",
   "id": "b6b854d2",
   "metadata": {},
   "source": [
    "### 2. Decision Trees"
   ]
  },
  {
   "cell_type": "code",
   "execution_count": 46,
   "id": "4bb16995",
   "metadata": {},
   "outputs": [],
   "source": [
    "from sklearn.tree import DecisionTreeClassifier"
   ]
  },
  {
   "cell_type": "markdown",
   "id": "09b31a4b",
   "metadata": {},
   "source": [
    "#### 50% train-test split"
   ]
  },
  {
   "cell_type": "code",
   "execution_count": 47,
   "id": "b139e87e",
   "metadata": {},
   "outputs": [],
   "source": [
    "X_train, X_test, y_train, y_test = train_test_split(X, y, test_size=0.5, random_state=5)"
   ]
  },
  {
   "cell_type": "code",
   "execution_count": 48,
   "id": "d938e160",
   "metadata": {},
   "outputs": [
    {
     "data": {
      "text/plain": [
       "(43520, 16)"
      ]
     },
     "execution_count": 48,
     "metadata": {},
     "output_type": "execute_result"
    }
   ],
   "source": [
    "X_test.shape"
   ]
  },
  {
   "cell_type": "code",
   "execution_count": 49,
   "id": "bc1aa4c9",
   "metadata": {},
   "outputs": [],
   "source": [
    "DT1 = DecisionTreeClassifier(random_state=0)\n",
    "\n",
    "# training the classifier\n",
    "DT1 = DT1.fit(X_train,y_train)\n",
    "\n",
    "#Predict the response for test dataset\n",
    "y_pred = DT1.predict(X_test)"
   ]
  },
  {
   "cell_type": "code",
   "execution_count": 50,
   "id": "c9390ca4",
   "metadata": {},
   "outputs": [
    {
     "name": "stdout",
     "output_type": "stream",
     "text": [
      "Accuracy: 0.9665670955882353\n"
     ]
    }
   ],
   "source": [
    "# accuracy measurement\n",
    "print(\"Accuracy:\",metrics.accuracy_score(y_test, y_pred))"
   ]
  },
  {
   "cell_type": "code",
   "execution_count": 51,
   "id": "e336a1fe",
   "metadata": {},
   "outputs": [
    {
     "name": "stdout",
     "output_type": "stream",
     "text": [
      "Precision: 0.9632188114735349\n",
      "Recall: 0.9700082926379803\n"
     ]
    }
   ],
   "source": [
    "print(\"Precision:\",metrics.precision_score(y_test, y_pred))\n",
    "print(\"Recall:\",metrics.recall_score(y_test, y_pred))"
   ]
  },
  {
   "cell_type": "code",
   "execution_count": 52,
   "id": "6a58d06a",
   "metadata": {},
   "outputs": [
    {
     "name": "stdout",
     "output_type": "stream",
     "text": [
      "[[21010   804]\n",
      " [  651 21055]]\n",
      "              precision    recall  f1-score   support\n",
      "\n",
      "           0       0.97      0.96      0.97     21814\n",
      "           1       0.96      0.97      0.97     21706\n",
      "\n",
      "    accuracy                           0.97     43520\n",
      "   macro avg       0.97      0.97      0.97     43520\n",
      "weighted avg       0.97      0.97      0.97     43520\n",
      "\n"
     ]
    }
   ],
   "source": [
    "print(metrics.confusion_matrix(y_test, y_pred))\n",
    "\n",
    "print(metrics.classification_report(y_test, y_pred))"
   ]
  },
  {
   "cell_type": "markdown",
   "id": "689a18c9",
   "metadata": {},
   "source": [
    "#### 80% train-test split"
   ]
  },
  {
   "cell_type": "code",
   "execution_count": 53,
   "id": "32cb40f4",
   "metadata": {},
   "outputs": [],
   "source": [
    "X_train, X_test, y_train, y_test = train_test_split(X, y, test_size=0.2, random_state=5)"
   ]
  },
  {
   "cell_type": "code",
   "execution_count": 54,
   "id": "438c85f8",
   "metadata": {},
   "outputs": [
    {
     "data": {
      "text/plain": [
       "(17408, 16)"
      ]
     },
     "execution_count": 54,
     "metadata": {},
     "output_type": "execute_result"
    }
   ],
   "source": [
    "X_test.shape"
   ]
  },
  {
   "cell_type": "code",
   "execution_count": 55,
   "id": "24859b76",
   "metadata": {},
   "outputs": [],
   "source": [
    "DT2 = DecisionTreeClassifier(random_state=0)\n",
    "\n",
    "# training\n",
    "DT2 = DT2.fit(X_train,y_train)\n",
    "\n",
    "# predictiong\n",
    "y_pred = DT2.predict(X_test)"
   ]
  },
  {
   "cell_type": "code",
   "execution_count": 56,
   "id": "57b78567",
   "metadata": {},
   "outputs": [
    {
     "name": "stdout",
     "output_type": "stream",
     "text": [
      "Accuracy: 0.9730583639705882\n"
     ]
    }
   ],
   "source": [
    "# accuracy measurement\n",
    "print(\"Accuracy:\",metrics.accuracy_score(y_test, y_pred))"
   ]
  },
  {
   "cell_type": "code",
   "execution_count": 57,
   "id": "744c2a3b",
   "metadata": {},
   "outputs": [
    {
     "name": "stdout",
     "output_type": "stream",
     "text": [
      "Precision: 0.9696624087591241\n",
      "Recall: 0.9766800689259046\n"
     ]
    }
   ],
   "source": [
    "print(\"Precision:\",metrics.precision_score(y_test, y_pred))\n",
    "print(\"Recall:\",metrics.recall_score(y_test, y_pred))"
   ]
  },
  {
   "cell_type": "code",
   "execution_count": 58,
   "id": "5bafd655",
   "metadata": {},
   "outputs": [
    {
     "name": "stdout",
     "output_type": "stream",
     "text": [
      "[[8437  266]\n",
      " [ 203 8502]]\n",
      "              precision    recall  f1-score   support\n",
      "\n",
      "           0       0.98      0.97      0.97      8703\n",
      "           1       0.97      0.98      0.97      8705\n",
      "\n",
      "    accuracy                           0.97     17408\n",
      "   macro avg       0.97      0.97      0.97     17408\n",
      "weighted avg       0.97      0.97      0.97     17408\n",
      "\n"
     ]
    }
   ],
   "source": [
    "print(metrics.confusion_matrix(y_test, y_pred))\n",
    "\n",
    "print(metrics.classification_report(y_test, y_pred))"
   ]
  },
  {
   "cell_type": "markdown",
   "id": "c705414f",
   "metadata": {},
   "source": [
    "### 3. Naive Bayes Classifier"
   ]
  },
  {
   "cell_type": "markdown",
   "id": "9830fda8",
   "metadata": {},
   "source": [
    "#### 50% train-test split"
   ]
  },
  {
   "cell_type": "code",
   "execution_count": 59,
   "id": "0c4465de",
   "metadata": {},
   "outputs": [],
   "source": [
    "from sklearn.naive_bayes import GaussianNB"
   ]
  },
  {
   "cell_type": "code",
   "execution_count": 60,
   "id": "6d6c38f9",
   "metadata": {},
   "outputs": [],
   "source": [
    "X_train, X_test, y_train, y_test = train_test_split(X, y, test_size=0.5, random_state=5)"
   ]
  },
  {
   "cell_type": "code",
   "execution_count": 61,
   "id": "d5a26ecd",
   "metadata": {},
   "outputs": [],
   "source": [
    "gnb1 = GaussianNB()\n",
    "\n",
    "# training\n",
    "gnb1.fit(X_train, y_train)\n",
    "\n",
    "# predictiong\n",
    "y_pred = gnb1.predict(X_test)"
   ]
  },
  {
   "cell_type": "code",
   "execution_count": 62,
   "id": "5273c659",
   "metadata": {},
   "outputs": [
    {
     "name": "stdout",
     "output_type": "stream",
     "text": [
      "Accuracy: 0.5810202205882353\n"
     ]
    }
   ],
   "source": [
    "# accuracy measurement\n",
    "print(\"Accuracy:\",metrics.accuracy_score(y_test, y_pred))"
   ]
  },
  {
   "cell_type": "code",
   "execution_count": 63,
   "id": "eac82f39",
   "metadata": {},
   "outputs": [
    {
     "name": "stdout",
     "output_type": "stream",
     "text": [
      "Precision: 0.5482570745538444\n",
      "Recall: 0.9086427715838938\n"
     ]
    }
   ],
   "source": [
    "print(\"Precision:\",metrics.precision_score(y_test, y_pred))\n",
    "print(\"Recall:\",metrics.recall_score(y_test, y_pred))"
   ]
  },
  {
   "cell_type": "code",
   "execution_count": 64,
   "id": "81dd194c",
   "metadata": {},
   "outputs": [
    {
     "name": "stdout",
     "output_type": "stream",
     "text": [
      "[[ 5563 16251]\n",
      " [ 1983 19723]]\n",
      "              precision    recall  f1-score   support\n",
      "\n",
      "           0       0.74      0.26      0.38     21814\n",
      "           1       0.55      0.91      0.68     21706\n",
      "\n",
      "    accuracy                           0.58     43520\n",
      "   macro avg       0.64      0.58      0.53     43520\n",
      "weighted avg       0.64      0.58      0.53     43520\n",
      "\n"
     ]
    }
   ],
   "source": [
    "print(metrics.confusion_matrix(y_test, y_pred))\n",
    "\n",
    "print(metrics.classification_report(y_test, y_pred))"
   ]
  },
  {
   "cell_type": "markdown",
   "id": "881b1c8e",
   "metadata": {},
   "source": [
    "#### 80% train test split"
   ]
  },
  {
   "cell_type": "code",
   "execution_count": 65,
   "id": "29d0faaf",
   "metadata": {},
   "outputs": [],
   "source": [
    "X_train, X_test, y_train, y_test = train_test_split(X, y, test_size=0.2, random_state=5)"
   ]
  },
  {
   "cell_type": "code",
   "execution_count": 66,
   "id": "45ee940d",
   "metadata": {},
   "outputs": [],
   "source": [
    "gnb2 = GaussianNB()\n",
    "\n",
    "# training\n",
    "gnb2.fit(X_train, y_train)\n",
    "\n",
    "# predictiong\n",
    "y_pred = gnb2.predict(X_test)"
   ]
  },
  {
   "cell_type": "code",
   "execution_count": 67,
   "id": "2afb230b",
   "metadata": {},
   "outputs": [
    {
     "name": "stdout",
     "output_type": "stream",
     "text": [
      "Accuracy: 0.5801355698529411\n"
     ]
    }
   ],
   "source": [
    "# accuracy measurement\n",
    "print(\"Accuracy:\",metrics.accuracy_score(y_test, y_pred))"
   ]
  },
  {
   "cell_type": "code",
   "execution_count": 68,
   "id": "55b86a9d",
   "metadata": {},
   "outputs": [
    {
     "name": "stdout",
     "output_type": "stream",
     "text": [
      "Precision: 0.5484520338747744\n",
      "Recall: 0.907639287765652\n"
     ]
    }
   ],
   "source": [
    "print(\"Precision:\",metrics.precision_score(y_test, y_pred))\n",
    "print(\"Recall:\",metrics.recall_score(y_test, y_pred))"
   ]
  },
  {
   "cell_type": "code",
   "execution_count": 69,
   "id": "afecc1cb",
   "metadata": {},
   "outputs": [
    {
     "name": "stdout",
     "output_type": "stream",
     "text": [
      "[[2198 6505]\n",
      " [ 804 7901]]\n",
      "              precision    recall  f1-score   support\n",
      "\n",
      "           0       0.73      0.25      0.38      8703\n",
      "           1       0.55      0.91      0.68      8705\n",
      "\n",
      "    accuracy                           0.58     17408\n",
      "   macro avg       0.64      0.58      0.53     17408\n",
      "weighted avg       0.64      0.58      0.53     17408\n",
      "\n"
     ]
    }
   ],
   "source": [
    "print(metrics.confusion_matrix(y_test, y_pred))\n",
    "\n",
    "print(metrics.classification_report(y_test, y_pred))"
   ]
  },
  {
   "cell_type": "markdown",
   "id": "963e4bab",
   "metadata": {},
   "source": [
    "### 4. Random Forest Classifier"
   ]
  },
  {
   "cell_type": "markdown",
   "id": "af7c235c",
   "metadata": {},
   "source": [
    "#### 50% train-test split"
   ]
  },
  {
   "cell_type": "code",
   "execution_count": 70,
   "id": "938ab1d1",
   "metadata": {},
   "outputs": [],
   "source": [
    "from sklearn.ensemble import RandomForestClassifier"
   ]
  },
  {
   "cell_type": "code",
   "execution_count": 71,
   "id": "27614e06",
   "metadata": {},
   "outputs": [],
   "source": [
    "X_train, X_test, y_train, y_test = train_test_split(X, y, test_size=0.5, random_state=5)"
   ]
  },
  {
   "cell_type": "code",
   "execution_count": 72,
   "id": "575e722e",
   "metadata": {},
   "outputs": [],
   "source": [
    "rfc1=RandomForestClassifier(n_estimators=100, random_state=0)\n",
    "\n",
    "# training\n",
    "rfc1.fit(X_train,y_train)\n",
    "\n",
    "# predict\n",
    "y_pred = rfc1.predict(X_test)"
   ]
  },
  {
   "cell_type": "code",
   "execution_count": 73,
   "id": "0cc0c8c6",
   "metadata": {},
   "outputs": [
    {
     "name": "stdout",
     "output_type": "stream",
     "text": [
      "Accuracy: 0.9919806985294117\n"
     ]
    }
   ],
   "source": [
    "# accuracy measurement\n",
    "print(\"Accuracy:\",metrics.accuracy_score(y_test, y_pred))"
   ]
  },
  {
   "cell_type": "code",
   "execution_count": 74,
   "id": "4c5bbabe",
   "metadata": {},
   "outputs": [
    {
     "name": "stdout",
     "output_type": "stream",
     "text": [
      "Precision: 0.9904018369690012\n",
      "Recall: 0.9935501704597807\n"
     ]
    }
   ],
   "source": [
    "print(\"Precision:\",metrics.precision_score(y_test, y_pred))\n",
    "print(\"Recall:\",metrics.recall_score(y_test, y_pred))"
   ]
  },
  {
   "cell_type": "code",
   "execution_count": 75,
   "id": "701b43f0",
   "metadata": {},
   "outputs": [
    {
     "name": "stdout",
     "output_type": "stream",
     "text": [
      "[[21605   209]\n",
      " [  140 21566]]\n",
      "              precision    recall  f1-score   support\n",
      "\n",
      "           0       0.99      0.99      0.99     21814\n",
      "           1       0.99      0.99      0.99     21706\n",
      "\n",
      "    accuracy                           0.99     43520\n",
      "   macro avg       0.99      0.99      0.99     43520\n",
      "weighted avg       0.99      0.99      0.99     43520\n",
      "\n"
     ]
    }
   ],
   "source": [
    "print(metrics.confusion_matrix(y_test, y_pred))\n",
    "\n",
    "print(metrics.classification_report(y_test, y_pred))"
   ]
  },
  {
   "cell_type": "markdown",
   "id": "447555fa",
   "metadata": {},
   "source": [
    "#### 80% train-test split"
   ]
  },
  {
   "cell_type": "code",
   "execution_count": 76,
   "id": "6140b27e",
   "metadata": {},
   "outputs": [],
   "source": [
    "X_train, X_test, y_train, y_test = train_test_split(X, y, test_size=0.2, random_state=5)"
   ]
  },
  {
   "cell_type": "code",
   "execution_count": 77,
   "id": "9cde5076",
   "metadata": {},
   "outputs": [],
   "source": [
    "rfc2=RandomForestClassifier(n_estimators=100, random_state=0)\n",
    "\n",
    "# training\n",
    "rfc2.fit(X_train,y_train)\n",
    "\n",
    "# predict\n",
    "y_pred = rfc2.predict(X_test)"
   ]
  },
  {
   "cell_type": "code",
   "execution_count": 78,
   "id": "5452a68f",
   "metadata": {},
   "outputs": [
    {
     "name": "stdout",
     "output_type": "stream",
     "text": [
      "Accuracy: 0.9920726102941176\n"
     ]
    }
   ],
   "source": [
    "# accuracy measurement\n",
    "print(\"Accuracy:\",metrics.accuracy_score(y_test, y_pred))"
   ]
  },
  {
   "cell_type": "code",
   "execution_count": 79,
   "id": "05daae74",
   "metadata": {},
   "outputs": [
    {
     "name": "stdout",
     "output_type": "stream",
     "text": [
      "Precision: 0.9911707373007682\n",
      "Recall: 0.992992533026996\n"
     ]
    }
   ],
   "source": [
    "print(\"Precision:\",metrics.precision_score(y_test, y_pred))\n",
    "print(\"Recall:\",metrics.recall_score(y_test, y_pred))"
   ]
  },
  {
   "cell_type": "code",
   "execution_count": 80,
   "id": "69e153b1",
   "metadata": {},
   "outputs": [
    {
     "name": "stdout",
     "output_type": "stream",
     "text": [
      "[[8626   77]\n",
      " [  61 8644]]\n",
      "              precision    recall  f1-score   support\n",
      "\n",
      "           0       0.99      0.99      0.99      8703\n",
      "           1       0.99      0.99      0.99      8705\n",
      "\n",
      "    accuracy                           0.99     17408\n",
      "   macro avg       0.99      0.99      0.99     17408\n",
      "weighted avg       0.99      0.99      0.99     17408\n",
      "\n"
     ]
    }
   ],
   "source": [
    "print(metrics.confusion_matrix(y_test, y_pred))\n",
    "\n",
    "print(metrics.classification_report(y_test, y_pred))"
   ]
  },
  {
   "cell_type": "markdown",
   "id": "fa107873",
   "metadata": {},
   "source": [
    "#### Finding Important Features"
   ]
  },
  {
   "cell_type": "code",
   "execution_count": 81,
   "id": "1feb2b79",
   "metadata": {},
   "outputs": [
    {
     "data": {
      "text/plain": [
       "T3 - T5     0.130202\n",
       "F4 - C4     0.119154\n",
       "T6 - O2     0.090790\n",
       "T4 - T6     0.073727\n",
       "P4 - O2     0.067644\n",
       "P3 - O1     0.062464\n",
       "C4 - P4     0.061641\n",
       "C3 - P3     0.057668\n",
       "FP2 - F8    0.052149\n",
       "T5 - O1     0.051932\n",
       "F8 - T4     0.050386\n",
       "FP1 - F3    0.041490\n",
       "FP1 - F7    0.040026\n",
       "F7 - T3     0.037482\n",
       "F3 - C3     0.036194\n",
       "FP2 - F4    0.027051\n",
       "dtype: float64"
      ]
     },
     "execution_count": 81,
     "metadata": {},
     "output_type": "execute_result"
    }
   ],
   "source": [
    "feature_imp = pd.Series(rfc2.feature_importances_,index=X_train.columns).sort_values(ascending=False)\n",
    "feature_imp"
   ]
  },
  {
   "cell_type": "code",
   "execution_count": 82,
   "id": "25a06a73",
   "metadata": {},
   "outputs": [
    {
     "data": {
      "image/png": "[encoded data removed]",
      "text/plain": [
       "<Figure size 432x288 with 1 Axes>"
      ]
     },
     "metadata": {
      "needs_background": "light"
     },
     "output_type": "display_data"
    }
   ],
   "source": [
    "import matplotlib.pyplot as plt\n",
    "import seaborn as sns\n",
    "\n",
    "# creating a bar plot\n",
    "sns.barplot(x=feature_imp, y=feature_imp.index)\n",
    "# adding labels\n",
    "plt.xlabel('Feature Importance Score')\n",
    "plt.ylabel('Features')\n",
    "plt.title(\"Visualizing Important Features\")\n",
    "plt.show()"
   ]
  },
  {
   "cell_type": "code",
   "execution_count": 83,
   "id": "9e08a5fe",
   "metadata": {},
   "outputs": [
    {
     "name": "stdout",
     "output_type": "stream",
     "text": [
      "Accuracy: 0.9919002757352942\n"
     ]
    }
   ],
   "source": [
    "# dropping the least important feature and building the model again to see its effect on the accuracy\n",
    "\n",
    "X_train = X_train.drop(['FP2 - F4'], axis=1,errors='ignore')\n",
    "\n",
    "X_test = X_test.drop(['FP2 - F4'], axis=1,errors='ignore')\n",
    "\n",
    "# building the model again\n",
    "\n",
    "rfc_imp_features=RandomForestClassifier(n_estimators=100, random_state=0)\n",
    "\n",
    "# training\n",
    "rfc_imp_features.fit(X_train,y_train)\n",
    "\n",
    "# predict\n",
    "y_pred = rfc_imp_features.predict(X_test)\n",
    "\n",
    "# model accuracy\n",
    "print(\"Accuracy:\",metrics.accuracy_score(y_test, y_pred))"
   ]
  },
  {
   "cell_type": "code",
   "execution_count": 84,
   "id": "a237ecc8",
   "metadata": {},
   "outputs": [
    {
     "name": "stdout",
     "output_type": "stream",
     "text": [
      "Precision: 0.9904925544100802\n",
      "Recall: 0.9933371625502585\n"
     ]
    }
   ],
   "source": [
    "print(\"Precision:\",metrics.precision_score(y_test, y_pred))\n",
    "print(\"Recall:\",metrics.recall_score(y_test, y_pred))"
   ]
  },
  {
   "cell_type": "code",
   "execution_count": 85,
   "id": "89a1318f",
   "metadata": {},
   "outputs": [
    {
     "name": "stdout",
     "output_type": "stream",
     "text": [
      "[[8620   83]\n",
      " [  58 8647]]\n",
      "              precision    recall  f1-score   support\n",
      "\n",
      "           0       0.99      0.99      0.99      8703\n",
      "           1       0.99      0.99      0.99      8705\n",
      "\n",
      "    accuracy                           0.99     17408\n",
      "   macro avg       0.99      0.99      0.99     17408\n",
      "weighted avg       0.99      0.99      0.99     17408\n",
      "\n"
     ]
    }
   ],
   "source": [
    "print(metrics.confusion_matrix(y_test, y_pred))\n",
    "\n",
    "print(metrics.classification_report(y_test, y_pred))"
   ]
  },
  {
   "cell_type": "markdown",
   "id": "2ac59ec5",
   "metadata": {},
   "source": [
    "### 5. Neural Network"
   ]
  },
  {
   "cell_type": "markdown",
   "id": "ab20bb0b",
   "metadata": {},
   "source": [
    "#### 50% train-test split"
   ]
  },
  {
   "cell_type": "code",
   "execution_count": 111,
   "id": "4eae63e9",
   "metadata": {},
   "outputs": [],
   "source": [
    "X_train, X_test, y_train, y_test = train_test_split(X, y, test_size=0.5, random_state=5)"
   ]
  },
  {
   "cell_type": "code",
   "execution_count": 112,
   "id": "d509000f",
   "metadata": {},
   "outputs": [],
   "source": [
    "from keras.models import Sequential\n",
    "from keras.layers import Dense"
   ]
  },
  {
   "cell_type": "code",
   "execution_count": 113,
   "id": "01982034",
   "metadata": {},
   "outputs": [],
   "source": [
    "# defining the model\n",
    "model = Sequential()\n",
    "model.add(Dense(12, input_dim=16, activation='relu'))\n",
    "model.add(Dense(8, activation='relu'))\n",
    "model.add(Dense(1, activation='sigmoid'))"
   ]
  },
  {
   "cell_type": "code",
   "execution_count": 114,
   "id": "b3bc6c2d",
   "metadata": {},
   "outputs": [],
   "source": [
    "model.compile(loss='binary_crossentropy', optimizer='adam', metrics=['accuracy'])"
   ]
  },
  {
   "cell_type": "code",
   "execution_count": 115,
   "id": "f98ff216",
   "metadata": {
    "scrolled": true
   },
   "outputs": [
    {
     "name": "stdout",
     "output_type": "stream",
     "text": [
      "Epoch 1/150\n",
      "4352/4352 [==============================] - 5s 960us/step - loss: 2.9404 - accuracy: 0.6586\n",
      "Epoch 2/150\n",
      "4352/4352 [==============================] - 4s 958us/step - loss: 0.5726 - accuracy: 0.7196\n",
      "Epoch 3/150\n",
      "4352/4352 [==============================] - 4s 959us/step - loss: 0.4419 - accuracy: 0.8011\n",
      "Epoch 4/150\n",
      "4352/4352 [==============================] - 4s 994us/step - loss: 0.3543 - accuracy: 0.8512\n",
      "Epoch 5/150\n",
      "4352/4352 [==============================] - 4s 968us/step - loss: 0.2892 - accuracy: 0.8919\n",
      "Epoch 6/150\n",
      "4352/4352 [==============================] - 4s 973us/step - loss: 0.2471 - accuracy: 0.9101\n",
      "Epoch 7/150\n",
      "4352/4352 [==============================] - 4s 963us/step - loss: 0.2270 - accuracy: 0.9204\n",
      "Epoch 8/150\n",
      "4352/4352 [==============================] - 4s 978us/step - loss: 0.2125 - accuracy: 0.9263\n",
      "Epoch 9/150\n",
      "4352/4352 [==============================] - 4s 1ms/step - loss: 0.2043 - accuracy: 0.9296\n",
      "Epoch 10/150\n",
      "4352/4352 [==============================] - 4s 960us/step - loss: 0.1961 - accuracy: 0.9321\n",
      "Epoch 11/150\n",
      "4352/4352 [==============================] - 4s 975us/step - loss: 0.1917 - accuracy: 0.9340\n",
      "Epoch 12/150\n",
      "4352/4352 [==============================] - 4s 982us/step - loss: 0.1842 - accuracy: 0.9372\n",
      "Epoch 13/150\n",
      "4352/4352 [==============================] - 4s 978us/step - loss: 0.1785 - accuracy: 0.9395\n",
      "Epoch 14/150\n",
      "4352/4352 [==============================] - 4s 973us/step - loss: 0.1754 - accuracy: 0.9380\n",
      "Epoch 15/150\n",
      "4352/4352 [==============================] - 4s 978us/step - loss: 0.1686 - accuracy: 0.9425\n",
      "Epoch 16/150\n",
      "4352/4352 [==============================] - 4s 978us/step - loss: 0.1636 - accuracy: 0.9438\n",
      "Epoch 17/150\n",
      "4352/4352 [==============================] - 4s 974us/step - loss: 0.1626 - accuracy: 0.9445\n",
      "Epoch 18/150\n",
      "4352/4352 [==============================] - 4s 1ms/step - loss: 0.1616 - accuracy: 0.9443\n",
      "Epoch 19/150\n",
      "4352/4352 [==============================] - 4s 963us/step - loss: 0.1579 - accuracy: 0.9463\n",
      "Epoch 20/150\n",
      "4352/4352 [==============================] - 4s 969us/step - loss: 0.1521 - accuracy: 0.9491\n",
      "Epoch 21/150\n",
      "4352/4352 [==============================] - 4s 948us/step - loss: 0.1476 - accuracy: 0.9496\n",
      "Epoch 22/150\n",
      "4352/4352 [==============================] - 4s 946us/step - loss: 0.1490 - accuracy: 0.9504\n",
      "Epoch 23/150\n",
      "4352/4352 [==============================] - 4s 949us/step - loss: 0.1484 - accuracy: 0.9497\n",
      "Epoch 24/150\n",
      "4352/4352 [==============================] - 4s 968us/step - loss: 0.1435 - accuracy: 0.9519\n",
      "Epoch 25/150\n",
      "4352/4352 [==============================] - 4s 952us/step - loss: 0.1444 - accuracy: 0.9518\n",
      "Epoch 26/150\n",
      "4352/4352 [==============================] - 4s 952us/step - loss: 0.1424 - accuracy: 0.9528\n",
      "Epoch 27/150\n",
      "4352/4352 [==============================] - 4s 989us/step - loss: 0.1412 - accuracy: 0.9530\n",
      "Epoch 28/150\n",
      "4352/4352 [==============================] - 4s 957us/step - loss: 0.1397 - accuracy: 0.9537\n",
      "Epoch 29/150\n",
      "4352/4352 [==============================] - 4s 913us/step - loss: 0.1355 - accuracy: 0.9540\n",
      "Epoch 30/150\n",
      "4352/4352 [==============================] - 4s 922us/step - loss: 0.1379 - accuracy: 0.9549\n",
      "Epoch 31/150\n",
      "4352/4352 [==============================] - 4s 917us/step - loss: 0.1357 - accuracy: 0.9541\n",
      "Epoch 32/150\n",
      "4352/4352 [==============================] - 4s 928us/step - loss: 0.1368 - accuracy: 0.9543\n",
      "Epoch 33/150\n",
      "4352/4352 [==============================] - 4s 919us/step - loss: 0.1321 - accuracy: 0.9541\n",
      "Epoch 34/150\n",
      "4352/4352 [==============================] - 4s 924us/step - loss: 0.1349 - accuracy: 0.9553\n",
      "Epoch 35/150\n",
      "4352/4352 [==============================] - 4s 959us/step - loss: 0.1345 - accuracy: 0.9546\n",
      "Epoch 36/150\n",
      "4352/4352 [==============================] - 4s 923us/step - loss: 0.1316 - accuracy: 0.9551\n",
      "Epoch 37/150\n",
      "4352/4352 [==============================] - 4s 921us/step - loss: 0.1306 - accuracy: 0.9563\n",
      "Epoch 38/150\n",
      "4352/4352 [==============================] - 4s 926us/step - loss: 0.1305 - accuracy: 0.9569\n",
      "Epoch 39/150\n",
      "4352/4352 [==============================] - 4s 932us/step - loss: 0.1293 - accuracy: 0.9559\n",
      "Epoch 40/150\n",
      "4352/4352 [==============================] - 4s 927us/step - loss: 0.1306 - accuracy: 0.9568\n",
      "Epoch 41/150\n",
      "4352/4352 [==============================] - 4s 952us/step - loss: 0.1315 - accuracy: 0.9558\n",
      "Epoch 42/150\n",
      "4352/4352 [==============================] - 4s 1ms/step - loss: 0.1289 - accuracy: 0.9567\n",
      "Epoch 43/150\n",
      "4352/4352 [==============================] - 4s 1ms/step - loss: 0.1318 - accuracy: 0.9564\n",
      "Epoch 44/150\n",
      "4352/4352 [==============================] - 4s 975us/step - loss: 0.1256 - accuracy: 0.9574\n",
      "Epoch 45/150\n",
      "4352/4352 [==============================] - 4s 968us/step - loss: 0.1268 - accuracy: 0.9579\n",
      "Epoch 46/150\n",
      "4352/4352 [==============================] - 4s 975us/step - loss: 0.1262 - accuracy: 0.9573\n",
      "Epoch 47/150\n",
      "4352/4352 [==============================] - 4s 974us/step - loss: 0.1242 - accuracy: 0.9574\n",
      "Epoch 48/150\n",
      "4352/4352 [==============================] - 4s 989us/step - loss: 0.1260 - accuracy: 0.9581\n",
      "Epoch 49/150\n",
      "4352/4352 [==============================] - 4s 963us/step - loss: 0.1248 - accuracy: 0.9585\n",
      "Epoch 50/150\n",
      "4352/4352 [==============================] - 4s 987us/step - loss: 0.1240 - accuracy: 0.9594\n",
      "Epoch 51/150\n",
      "4352/4352 [==============================] - 4s 940us/step - loss: 0.1229 - accuracy: 0.9585\n",
      "Epoch 52/150\n",
      "4352/4352 [==============================] - 4s 924us/step - loss: 0.1216 - accuracy: 0.9591\n",
      "Epoch 53/150\n",
      "4352/4352 [==============================] - 4s 923us/step - loss: 0.1229 - accuracy: 0.9589\n",
      "Epoch 54/150\n",
      "4352/4352 [==============================] - 4s 924us/step - loss: 0.1201 - accuracy: 0.9602\n",
      "Epoch 55/150\n",
      "4352/4352 [==============================] - 4s 923us/step - loss: 0.1269 - accuracy: 0.9588\n",
      "Epoch 56/150\n",
      "4352/4352 [==============================] - 4s 918us/step - loss: 0.1214 - accuracy: 0.9590\n",
      "Epoch 57/150\n",
      "4352/4352 [==============================] - 4s 943us/step - loss: 0.1206 - accuracy: 0.9600\n",
      "Epoch 58/150\n",
      "4352/4352 [==============================] - 4s 945us/step - loss: 0.1214 - accuracy: 0.9606\n",
      "Epoch 59/150\n",
      "4352/4352 [==============================] - 4s 927us/step - loss: 0.1214 - accuracy: 0.9597\n",
      "Epoch 60/150\n",
      "4352/4352 [==============================] - 4s 918us/step - loss: 0.1219 - accuracy: 0.9605\n",
      "Epoch 61/150\n",
      "4352/4352 [==============================] - 4s 916us/step - loss: 0.1208 - accuracy: 0.9599\n",
      "Epoch 62/150\n",
      "4352/4352 [==============================] - 4s 919us/step - loss: 0.1174 - accuracy: 0.9610\n",
      "Epoch 63/150\n",
      "4352/4352 [==============================] - 4s 927us/step - loss: 0.1180 - accuracy: 0.9615\n",
      "Epoch 64/150\n",
      "4352/4352 [==============================] - 4s 943us/step - loss: 0.1190 - accuracy: 0.9611\n",
      "Epoch 65/150\n",
      "4352/4352 [==============================] - 4s 928us/step - loss: 0.1169 - accuracy: 0.9614\n",
      "Epoch 66/150\n",
      "4352/4352 [==============================] - 4s 921us/step - loss: 0.1224 - accuracy: 0.9597\n",
      "Epoch 67/150\n",
      "4352/4352 [==============================] - 4s 923us/step - loss: 0.1178 - accuracy: 0.9613\n",
      "Epoch 68/150\n",
      "4352/4352 [==============================] - 4s 944us/step - loss: 0.1240 - accuracy: 0.9599\n",
      "Epoch 69/150\n",
      "4352/4352 [==============================] - 4s 952us/step - loss: 0.1174 - accuracy: 0.9603\n",
      "Epoch 70/150\n",
      "4352/4352 [==============================] - 4s 920us/step - loss: 0.1183 - accuracy: 0.9606\n",
      "Epoch 71/150\n",
      "4352/4352 [==============================] - 4s 923us/step - loss: 0.1172 - accuracy: 0.9618\n",
      "Epoch 72/150\n",
      "4352/4352 [==============================] - 4s 918us/step - loss: 0.1172 - accuracy: 0.9618\n",
      "Epoch 73/150\n",
      "4352/4352 [==============================] - 4s 925us/step - loss: 0.1147 - accuracy: 0.9622\n",
      "Epoch 74/150\n",
      "4352/4352 [==============================] - 4s 930us/step - loss: 0.1198 - accuracy: 0.9610\n",
      "Epoch 75/150\n",
      "4352/4352 [==============================] - 4s 920us/step - loss: 0.1145 - accuracy: 0.9619\n",
      "Epoch 76/150\n",
      "4352/4352 [==============================] - 4s 923us/step - loss: 0.1136 - accuracy: 0.9622\n",
      "Epoch 77/150\n",
      "4352/4352 [==============================] - 4s 922us/step - loss: 0.1169 - accuracy: 0.9606\n",
      "Epoch 78/150\n"
     ]
    },
    {
     "name": "stdout",
     "output_type": "stream",
     "text": [
      "4352/4352 [==============================] - 4s 922us/step - loss: 0.1147 - accuracy: 0.9618\n",
      "Epoch 79/150\n",
      "4352/4352 [==============================] - 4s 936us/step - loss: 0.1178 - accuracy: 0.9616\n",
      "Epoch 80/150\n",
      "4352/4352 [==============================] - 4s 916us/step - loss: 0.1183 - accuracy: 0.9614\n",
      "Epoch 81/150\n",
      "4352/4352 [==============================] - 4s 925us/step - loss: 0.1167 - accuracy: 0.9621\n",
      "Epoch 82/150\n",
      "4352/4352 [==============================] - 4s 921us/step - loss: 0.1128 - accuracy: 0.9633\n",
      "Epoch 83/150\n",
      "4352/4352 [==============================] - 4s 928us/step - loss: 0.1150 - accuracy: 0.9617\n",
      "Epoch 84/150\n",
      "4352/4352 [==============================] - 4s 922us/step - loss: 0.1172 - accuracy: 0.9625\n",
      "Epoch 85/150\n",
      "4352/4352 [==============================] - 4s 922us/step - loss: 0.1162 - accuracy: 0.9623\n",
      "Epoch 86/150\n",
      "4352/4352 [==============================] - 4s 922us/step - loss: 0.1131 - accuracy: 0.9627\n",
      "Epoch 87/150\n",
      "4352/4352 [==============================] - 4s 920us/step - loss: 0.1139 - accuracy: 0.9631\n",
      "Epoch 88/150\n",
      "4352/4352 [==============================] - 4s 923us/step - loss: 0.1121 - accuracy: 0.9624\n",
      "Epoch 89/150\n",
      "4352/4352 [==============================] - 4s 918us/step - loss: 0.1136 - accuracy: 0.9628\n",
      "Epoch 90/150\n",
      "4352/4352 [==============================] - 4s 923us/step - loss: 0.1136 - accuracy: 0.9631\n",
      "Epoch 91/150\n",
      "4352/4352 [==============================] - 4s 938us/step - loss: 0.1138 - accuracy: 0.9626\n",
      "Epoch 92/150\n",
      "4352/4352 [==============================] - 4s 923us/step - loss: 0.1142 - accuracy: 0.9625\n",
      "Epoch 93/150\n",
      "4352/4352 [==============================] - 4s 922us/step - loss: 0.1112 - accuracy: 0.9626\n",
      "Epoch 94/150\n",
      "4352/4352 [==============================] - 4s 944us/step - loss: 0.1170 - accuracy: 0.9618\n",
      "Epoch 95/150\n",
      "4352/4352 [==============================] - 4s 925us/step - loss: 0.1109 - accuracy: 0.9631\n",
      "Epoch 96/150\n",
      "4352/4352 [==============================] - 4s 922us/step - loss: 0.1135 - accuracy: 0.9629\n",
      "Epoch 97/150\n",
      "4352/4352 [==============================] - 4s 933us/step - loss: 0.1121 - accuracy: 0.9627\n",
      "Epoch 98/150\n",
      "4352/4352 [==============================] - 4s 933us/step - loss: 0.1136 - accuracy: 0.9626\n",
      "Epoch 99/150\n",
      "4352/4352 [==============================] - 4s 925us/step - loss: 0.1120 - accuracy: 0.9625\n",
      "Epoch 100/150\n",
      "4352/4352 [==============================] - 4s 920us/step - loss: 0.1127 - accuracy: 0.9633\n",
      "Epoch 101/150\n",
      "4352/4352 [==============================] - 4s 927us/step - loss: 0.1109 - accuracy: 0.9634\n",
      "Epoch 102/150\n",
      "4352/4352 [==============================] - 4s 922us/step - loss: 0.1101 - accuracy: 0.9636\n",
      "Epoch 103/150\n",
      "4352/4352 [==============================] - 4s 921us/step - loss: 0.1116 - accuracy: 0.9635\n",
      "Epoch 104/150\n",
      "4352/4352 [==============================] - 4s 926us/step - loss: 0.1150 - accuracy: 0.9620\n",
      "Epoch 105/150\n",
      "4352/4352 [==============================] - 4s 922us/step - loss: 0.1120 - accuracy: 0.9641\n",
      "Epoch 106/150\n",
      "4352/4352 [==============================] - 4s 919us/step - loss: 0.1122 - accuracy: 0.9634\n",
      "Epoch 107/150\n",
      "4352/4352 [==============================] - 4s 925us/step - loss: 0.1100 - accuracy: 0.9635\n",
      "Epoch 108/150\n",
      "4352/4352 [==============================] - 4s 922us/step - loss: 0.1116 - accuracy: 0.9636\n",
      "Epoch 109/150\n",
      "4352/4352 [==============================] - 4s 929us/step - loss: 0.1117 - accuracy: 0.9637\n",
      "Epoch 110/150\n",
      "4352/4352 [==============================] - 4s 921us/step - loss: 0.1105 - accuracy: 0.9638\n",
      "Epoch 111/150\n",
      "4352/4352 [==============================] - 4s 929us/step - loss: 0.1121 - accuracy: 0.9627\n",
      "Epoch 112/150\n",
      "4352/4352 [==============================] - 4s 935us/step - loss: 0.1094 - accuracy: 0.9645\n",
      "Epoch 113/150\n",
      "4352/4352 [==============================] - 4s 923us/step - loss: 0.1102 - accuracy: 0.9633\n",
      "Epoch 114/150\n",
      "4352/4352 [==============================] - 4s 924us/step - loss: 0.1116 - accuracy: 0.9631\n",
      "Epoch 115/150\n",
      "4352/4352 [==============================] - 4s 924us/step - loss: 0.1100 - accuracy: 0.9636\n",
      "Epoch 116/150\n",
      "4352/4352 [==============================] - 4s 917us/step - loss: 0.1090 - accuracy: 0.9647\n",
      "Epoch 117/150\n",
      "4352/4352 [==============================] - 4s 929us/step - loss: 0.1104 - accuracy: 0.9633\n",
      "Epoch 118/150\n",
      "4352/4352 [==============================] - 4s 918us/step - loss: 0.1102 - accuracy: 0.9631\n",
      "Epoch 119/150\n",
      "4352/4352 [==============================] - 4s 921us/step - loss: 0.1133 - accuracy: 0.9634\n",
      "Epoch 120/150\n",
      "4352/4352 [==============================] - 4s 927us/step - loss: 0.1093 - accuracy: 0.9637\n",
      "Epoch 121/150\n",
      "4352/4352 [==============================] - 4s 923us/step - loss: 0.1091 - accuracy: 0.9646\n",
      "Epoch 122/150\n",
      "4352/4352 [==============================] - 4s 915us/step - loss: 0.1101 - accuracy: 0.9630\n",
      "Epoch 123/150\n",
      "4352/4352 [==============================] - 4s 929us/step - loss: 0.1065 - accuracy: 0.9643\n",
      "Epoch 124/150\n",
      "4352/4352 [==============================] - 4s 1ms/step - loss: 0.1107 - accuracy: 0.9639\n",
      "Epoch 125/150\n",
      "4352/4352 [==============================] - 4s 1ms/step - loss: 0.1079 - accuracy: 0.9641\n",
      "Epoch 126/150\n",
      "4352/4352 [==============================] - 4s 983us/step - loss: 0.1093 - accuracy: 0.9637\n",
      "Epoch 127/150\n",
      "4352/4352 [==============================] - 4s 977us/step - loss: 0.1124 - accuracy: 0.9645\n",
      "Epoch 128/150\n",
      "4352/4352 [==============================] - 4s 978us/step - loss: 0.1076 - accuracy: 0.9644\n",
      "Epoch 129/150\n",
      "4352/4352 [==============================] - 4s 976us/step - loss: 0.1084 - accuracy: 0.9639\n",
      "Epoch 130/150\n",
      "4352/4352 [==============================] - 4s 974us/step - loss: 0.1116 - accuracy: 0.9633\n",
      "Epoch 131/150\n",
      "4352/4352 [==============================] - 4s 975us/step - loss: 0.1076 - accuracy: 0.9631\n",
      "Epoch 132/150\n",
      "4352/4352 [==============================] - 4s 985us/step - loss: 0.1105 - accuracy: 0.9640\n",
      "Epoch 133/150\n",
      "4352/4352 [==============================] - 4s 977us/step - loss: 0.1066 - accuracy: 0.9652\n",
      "Epoch 134/150\n",
      "4352/4352 [==============================] - 4s 975us/step - loss: 0.1091 - accuracy: 0.9645\n",
      "Epoch 135/150\n",
      "4352/4352 [==============================] - 4s 972us/step - loss: 0.1088 - accuracy: 0.9643\n",
      "Epoch 136/150\n",
      "4352/4352 [==============================] - 4s 973us/step - loss: 0.1090 - accuracy: 0.9649\n",
      "Epoch 137/150\n",
      "4352/4352 [==============================] - 4s 979us/step - loss: 0.1066 - accuracy: 0.9658\n",
      "Epoch 138/150\n",
      "4352/4352 [==============================] - 4s 978us/step - loss: 0.1061 - accuracy: 0.9649\n",
      "Epoch 139/150\n",
      "4352/4352 [==============================] - 4s 973us/step - loss: 0.1089 - accuracy: 0.9642\n",
      "Epoch 140/150\n",
      "4352/4352 [==============================] - 4s 997us/step - loss: 0.1078 - accuracy: 0.9643\n",
      "Epoch 141/150\n",
      "4352/4352 [==============================] - 4s 980us/step - loss: 0.1060 - accuracy: 0.9648\n",
      "Epoch 142/150\n",
      "4352/4352 [==============================] - 4s 976us/step - loss: 0.1086 - accuracy: 0.9651\n",
      "Epoch 143/150\n",
      "4352/4352 [==============================] - 4s 969us/step - loss: 0.1079 - accuracy: 0.9649\n",
      "Epoch 144/150\n",
      "4352/4352 [==============================] - 4s 986us/step - loss: 0.1054 - accuracy: 0.9651\n",
      "Epoch 145/150\n",
      "4352/4352 [==============================] - 4s 983us/step - loss: 0.1095 - accuracy: 0.9641\n",
      "Epoch 146/150\n",
      "4352/4352 [==============================] - 4s 987us/step - loss: 0.1090 - accuracy: 0.9643\n",
      "Epoch 147/150\n",
      "4352/4352 [==============================] - 4s 981us/step - loss: 0.1067 - accuracy: 0.9639\n",
      "Epoch 148/150\n",
      "4352/4352 [==============================] - 4s 985us/step - loss: 0.1086 - accuracy: 0.9645\n",
      "Epoch 149/150\n",
      "4352/4352 [==============================] - 4s 949us/step - loss: 0.1046 - accuracy: 0.9646\n",
      "Epoch 150/150\n",
      "4352/4352 [==============================] - 4s 983us/step - loss: 0.1072 - accuracy: 0.9644\n"
     ]
    },
    {
     "data": {
      "text/plain": [
       "<keras.callbacks.History at 0x1b17e182160>"
      ]
     },
     "execution_count": 115,
     "metadata": {},
     "output_type": "execute_result"
    }
   ],
   "source": [
    "model.fit(X_train, y_train, epochs=150, batch_size=10)"
   ]
  },
  {
   "cell_type": "code",
   "execution_count": 116,
   "id": "b468c37b",
   "metadata": {},
   "outputs": [
    {
     "name": "stdout",
     "output_type": "stream",
     "text": [
      "1360/1360 [==============================] - 2s 938us/step\n"
     ]
    }
   ],
   "source": [
    "# predicting\n",
    "y_pred = (model.predict(X_test) > 0.5).astype(int)"
   ]
  },
  {
   "cell_type": "code",
   "execution_count": 117,
   "id": "e4c6ce06",
   "metadata": {},
   "outputs": [
    {
     "name": "stdout",
     "output_type": "stream",
     "text": [
      "Accuracy: 0.9595588235294118\n"
     ]
    }
   ],
   "source": [
    "# model accuracy\n",
    "print(\"Accuracy:\",metrics.accuracy_score(y_test, y_pred))"
   ]
  },
  {
   "cell_type": "code",
   "execution_count": 118,
   "id": "89a4ea24",
   "metadata": {},
   "outputs": [
    {
     "name": "stdout",
     "output_type": "stream",
     "text": [
      "Precision: 0.9481844328599677\n",
      "Recall: 0.9720353819220492\n"
     ]
    }
   ],
   "source": [
    "print(\"Precision:\",metrics.precision_score(y_test, y_pred))\n",
    "print(\"Recall:\",metrics.recall_score(y_test, y_pred))"
   ]
  },
  {
   "cell_type": "code",
   "execution_count": 119,
   "id": "9173e42f",
   "metadata": {},
   "outputs": [
    {
     "name": "stdout",
     "output_type": "stream",
     "text": [
      "[[20661  1153]\n",
      " [  607 21099]]\n",
      "              precision    recall  f1-score   support\n",
      "\n",
      "           0       0.97      0.95      0.96     21814\n",
      "           1       0.95      0.97      0.96     21706\n",
      "\n",
      "    accuracy                           0.96     43520\n",
      "   macro avg       0.96      0.96      0.96     43520\n",
      "weighted avg       0.96      0.96      0.96     43520\n",
      "\n"
     ]
    }
   ],
   "source": [
    "print(metrics.confusion_matrix(y_test, y_pred))\n",
    "\n",
    "print(metrics.classification_report(y_test, y_pred))"
   ]
  },
  {
   "cell_type": "markdown",
   "id": "9f89d7e3",
   "metadata": {},
   "source": [
    "#### 80% train-test split"
   ]
  },
  {
   "cell_type": "code",
   "execution_count": 100,
   "id": "36fc8f14",
   "metadata": {},
   "outputs": [],
   "source": [
    "X_train, X_test, y_train, y_test = train_test_split(X, y, test_size=0.2, random_state=5)"
   ]
  },
  {
   "cell_type": "code",
   "execution_count": 101,
   "id": "a8d586d3",
   "metadata": {},
   "outputs": [],
   "source": [
    "# defining the model\n",
    "model = Sequential()\n",
    "model.add(Dense(12, input_dim=16, activation='relu'))\n",
    "model.add(Dense(8, activation='relu'))\n",
    "model.add(Dense(1, activation='sigmoid'))"
   ]
  },
  {
   "cell_type": "code",
   "execution_count": 102,
   "id": "6ce2d2c0",
   "metadata": {},
   "outputs": [],
   "source": [
    "model.compile(loss='binary_crossentropy', optimizer='adam', metrics=['accuracy'])"
   ]
  },
  {
   "cell_type": "code",
   "execution_count": 103,
   "id": "e7f55eeb",
   "metadata": {
    "scrolled": true
   },
   "outputs": [
    {
     "name": "stdout",
     "output_type": "stream",
     "text": [
      "Epoch 1/150\n",
      "6964/6964 [==============================] - 8s 1ms/step - loss: 2.2708 - accuracy: 0.6388\n",
      "Epoch 2/150\n",
      "6964/6964 [==============================] - 7s 1ms/step - loss: 0.4724 - accuracy: 0.7504\n",
      "Epoch 3/150\n",
      "6964/6964 [==============================] - 7s 998us/step - loss: 0.3867 - accuracy: 0.8058\n",
      "Epoch 4/150\n",
      "6964/6964 [==============================] - 7s 1ms/step - loss: 0.3489 - accuracy: 0.8356\n",
      "Epoch 5/150\n",
      "6964/6964 [==============================] - 7s 999us/step - loss: 0.3095 - accuracy: 0.8621\n",
      "Epoch 6/150\n",
      "6964/6964 [==============================] - 7s 1ms/step - loss: 0.2485 - accuracy: 0.9008\n",
      "Epoch 7/150\n",
      "6964/6964 [==============================] - 7s 995us/step - loss: 0.1955 - accuracy: 0.9314\n",
      "Epoch 8/150\n",
      "6964/6964 [==============================] - 7s 1ms/step - loss: 0.1806 - accuracy: 0.9365\n",
      "Epoch 9/150\n",
      "6964/6964 [==============================] - 7s 993us/step - loss: 0.1736 - accuracy: 0.9399\n",
      "Epoch 10/150\n",
      "6964/6964 [==============================] - 7s 986us/step - loss: 0.1664 - accuracy: 0.9424\n",
      "Epoch 11/150\n",
      "6964/6964 [==============================] - 7s 1ms/step - loss: 0.1599 - accuracy: 0.9452\n",
      "Epoch 12/150\n",
      "6964/6964 [==============================] - 7s 1ms/step - loss: 0.1557 - accuracy: 0.9465\n",
      "Epoch 13/150\n",
      "6964/6964 [==============================] - 7s 951us/step - loss: 0.1531 - accuracy: 0.9471\n",
      "Epoch 14/150\n",
      "6964/6964 [==============================] - 7s 990us/step - loss: 0.1484 - accuracy: 0.9485\n",
      "Epoch 15/150\n",
      "6964/6964 [==============================] - 7s 1ms/step - loss: 0.1477 - accuracy: 0.9497\n",
      "Epoch 16/150\n",
      "6964/6964 [==============================] - 7s 1ms/step - loss: 0.1449 - accuracy: 0.9496\n",
      "Epoch 17/150\n",
      "6964/6964 [==============================] - 7s 1ms/step - loss: 0.1440 - accuracy: 0.9510\n",
      "Epoch 18/150\n",
      "6964/6964 [==============================] - 7s 990us/step - loss: 0.1427 - accuracy: 0.9510\n",
      "Epoch 19/150\n",
      "6964/6964 [==============================] - 7s 1ms/step - loss: 0.1418 - accuracy: 0.9519\n",
      "Epoch 20/150\n",
      "6964/6964 [==============================] - 7s 1ms/step - loss: 0.1443 - accuracy: 0.9520\n",
      "Epoch 21/150\n",
      "6964/6964 [==============================] - 8s 1ms/step - loss: 0.1419 - accuracy: 0.9530\n",
      "Epoch 22/150\n",
      "6964/6964 [==============================] - 8s 1ms/step - loss: 0.1417 - accuracy: 0.9523\n",
      "Epoch 23/150\n",
      "6964/6964 [==============================] - 7s 1ms/step - loss: 0.1422 - accuracy: 0.9521\n",
      "Epoch 24/150\n",
      "6964/6964 [==============================] - 7s 1ms/step - loss: 0.1405 - accuracy: 0.9522\n",
      "Epoch 25/150\n",
      "6964/6964 [==============================] - 7s 1ms/step - loss: 0.1414 - accuracy: 0.9525\n",
      "Epoch 26/150\n",
      "6964/6964 [==============================] - 7s 1ms/step - loss: 0.1402 - accuracy: 0.9526\n",
      "Epoch 27/150\n",
      "6964/6964 [==============================] - 7s 1ms/step - loss: 0.1394 - accuracy: 0.9530\n",
      "Epoch 28/150\n",
      "6964/6964 [==============================] - 7s 1ms/step - loss: 0.1393 - accuracy: 0.9534\n",
      "Epoch 29/150\n",
      "6964/6964 [==============================] - 7s 1ms/step - loss: 0.1380 - accuracy: 0.9536\n",
      "Epoch 30/150\n",
      "6964/6964 [==============================] - 7s 1ms/step - loss: 0.1377 - accuracy: 0.9537\n",
      "Epoch 31/150\n",
      "6964/6964 [==============================] - 7s 1ms/step - loss: 0.1401 - accuracy: 0.9532\n",
      "Epoch 32/150\n",
      "6964/6964 [==============================] - 7s 1ms/step - loss: 0.1372 - accuracy: 0.9539\n",
      "Epoch 33/150\n",
      "6964/6964 [==============================] - 7s 1ms/step - loss: 0.1383 - accuracy: 0.9536\n",
      "Epoch 34/150\n",
      "6964/6964 [==============================] - 7s 1ms/step - loss: 0.1379 - accuracy: 0.9530\n",
      "Epoch 35/150\n",
      "6964/6964 [==============================] - 7s 1ms/step - loss: 0.1359 - accuracy: 0.9541\n",
      "Epoch 36/150\n",
      "6964/6964 [==============================] - 8s 1ms/step - loss: 0.1364 - accuracy: 0.9536\n",
      "Epoch 37/150\n",
      "6964/6964 [==============================] - 9s 1ms/step - loss: 0.1382 - accuracy: 0.9535\n",
      "Epoch 38/150\n",
      "6964/6964 [==============================] - 10s 1ms/step - loss: 0.1356 - accuracy: 0.9547\n",
      "Epoch 39/150\n",
      "6964/6964 [==============================] - 8s 1ms/step - loss: 0.1367 - accuracy: 0.9541\n",
      "Epoch 40/150\n",
      "6964/6964 [==============================] - 8s 1ms/step - loss: 0.1364 - accuracy: 0.9540\n",
      "Epoch 41/150\n",
      "6964/6964 [==============================] - 8s 1ms/step - loss: 0.1357 - accuracy: 0.9543\n",
      "Epoch 42/150\n",
      "6964/6964 [==============================] - 7s 1ms/step - loss: 0.1363 - accuracy: 0.9539\n",
      "Epoch 43/150\n",
      "6964/6964 [==============================] - 7s 1ms/step - loss: 0.1371 - accuracy: 0.9550\n",
      "Epoch 44/150\n",
      "6964/6964 [==============================] - 7s 1ms/step - loss: 0.1341 - accuracy: 0.9550\n",
      "Epoch 45/150\n",
      "6964/6964 [==============================] - 7s 1ms/step - loss: 0.1370 - accuracy: 0.9537\n",
      "Epoch 46/150\n",
      "6964/6964 [==============================] - 7s 1ms/step - loss: 0.1343 - accuracy: 0.9547\n",
      "Epoch 47/150\n",
      "6964/6964 [==============================] - 7s 1ms/step - loss: 0.1349 - accuracy: 0.9542\n",
      "Epoch 48/150\n",
      "6964/6964 [==============================] - 7s 1ms/step - loss: 0.1343 - accuracy: 0.9544\n",
      "Epoch 49/150\n",
      "6964/6964 [==============================] - 7s 1ms/step - loss: 0.1338 - accuracy: 0.9554\n",
      "Epoch 50/150\n",
      "6964/6964 [==============================] - 7s 1ms/step - loss: 0.1344 - accuracy: 0.9547\n",
      "Epoch 51/150\n",
      "6964/6964 [==============================] - 7s 1ms/step - loss: 0.1347 - accuracy: 0.9552\n",
      "Epoch 52/150\n",
      "6964/6964 [==============================] - 7s 1ms/step - loss: 0.1337 - accuracy: 0.9545\n",
      "Epoch 53/150\n",
      "6964/6964 [==============================] - 7s 1ms/step - loss: 0.1333 - accuracy: 0.9547\n",
      "Epoch 54/150\n",
      "6964/6964 [==============================] - 7s 1ms/step - loss: 0.1326 - accuracy: 0.9553\n",
      "Epoch 55/150\n",
      "6964/6964 [==============================] - 7s 1ms/step - loss: 0.1332 - accuracy: 0.9551\n",
      "Epoch 56/150\n",
      "6964/6964 [==============================] - 7s 1ms/step - loss: 0.1347 - accuracy: 0.9548\n",
      "Epoch 57/150\n",
      "6964/6964 [==============================] - 7s 1ms/step - loss: 0.1322 - accuracy: 0.9551\n",
      "Epoch 58/150\n",
      "6964/6964 [==============================] - 7s 1ms/step - loss: 0.1324 - accuracy: 0.9556\n",
      "Epoch 59/150\n",
      "6964/6964 [==============================] - 7s 1ms/step - loss: 0.1325 - accuracy: 0.9562\n",
      "Epoch 60/150\n",
      "6964/6964 [==============================] - 7s 1ms/step - loss: 0.1320 - accuracy: 0.9559\n",
      "Epoch 61/150\n",
      "6964/6964 [==============================] - 7s 1ms/step - loss: 0.1311 - accuracy: 0.9563\n",
      "Epoch 62/150\n",
      "6964/6964 [==============================] - 7s 1ms/step - loss: 0.1316 - accuracy: 0.9556\n",
      "Epoch 63/150\n",
      "6964/6964 [==============================] - 7s 1ms/step - loss: 0.1336 - accuracy: 0.9554\n",
      "Epoch 64/150\n",
      "6964/6964 [==============================] - 7s 1ms/step - loss: 0.1322 - accuracy: 0.9558\n",
      "Epoch 65/150\n",
      "6964/6964 [==============================] - 7s 1ms/step - loss: 0.1301 - accuracy: 0.9568\n",
      "Epoch 66/150\n",
      "6964/6964 [==============================] - 7s 1ms/step - loss: 0.1315 - accuracy: 0.9561\n",
      "Epoch 67/150\n",
      "6964/6964 [==============================] - 7s 1ms/step - loss: 0.1312 - accuracy: 0.9565\n",
      "Epoch 68/150\n",
      "6964/6964 [==============================] - 7s 1ms/step - loss: 0.1305 - accuracy: 0.9561\n",
      "Epoch 69/150\n",
      "6964/6964 [==============================] - 7s 1ms/step - loss: 0.1295 - accuracy: 0.9575\n",
      "Epoch 70/150\n",
      "6964/6964 [==============================] - 7s 1ms/step - loss: 0.1315 - accuracy: 0.9562\n",
      "Epoch 71/150\n",
      "6964/6964 [==============================] - 7s 1ms/step - loss: 0.1313 - accuracy: 0.9566\n",
      "Epoch 72/150\n",
      "6964/6964 [==============================] - 7s 1ms/step - loss: 0.1302 - accuracy: 0.9562\n",
      "Epoch 73/150\n",
      "6964/6964 [==============================] - 7s 1ms/step - loss: 0.1301 - accuracy: 0.9558\n",
      "Epoch 74/150\n",
      "6964/6964 [==============================] - 7s 1ms/step - loss: 0.1299 - accuracy: 0.9563\n",
      "Epoch 75/150\n",
      "6964/6964 [==============================] - 7s 1ms/step - loss: 0.1286 - accuracy: 0.9569\n",
      "Epoch 76/150\n",
      "6964/6964 [==============================] - 7s 1ms/step - loss: 0.1300 - accuracy: 0.9570\n",
      "Epoch 77/150\n",
      "6964/6964 [==============================] - 7s 1ms/step - loss: 0.1283 - accuracy: 0.9573\n",
      "Epoch 78/150\n",
      "6964/6964 [==============================] - 7s 1ms/step - loss: 0.1285 - accuracy: 0.9580\n",
      "Epoch 79/150\n"
     ]
    },
    {
     "name": "stdout",
     "output_type": "stream",
     "text": [
      "6964/6964 [==============================] - 7s 1ms/step - loss: 0.1285 - accuracy: 0.9571\n",
      "Epoch 80/150\n",
      "6964/6964 [==============================] - 7s 1ms/step - loss: 0.1294 - accuracy: 0.9568\n",
      "Epoch 81/150\n",
      "6964/6964 [==============================] - 7s 1ms/step - loss: 0.1289 - accuracy: 0.9575\n",
      "Epoch 82/150\n",
      "6964/6964 [==============================] - 7s 990us/step - loss: 0.1285 - accuracy: 0.9570\n",
      "Epoch 83/150\n",
      "6964/6964 [==============================] - 7s 958us/step - loss: 0.1280 - accuracy: 0.9581\n",
      "Epoch 84/150\n",
      "6964/6964 [==============================] - 7s 993us/step - loss: 0.1271 - accuracy: 0.9576\n",
      "Epoch 85/150\n",
      "6964/6964 [==============================] - 7s 998us/step - loss: 0.1284 - accuracy: 0.9575\n",
      "Epoch 86/150\n",
      "6964/6964 [==============================] - 7s 1ms/step - loss: 0.1278 - accuracy: 0.9581\n",
      "Epoch 87/150\n",
      "6964/6964 [==============================] - 7s 991us/step - loss: 0.1274 - accuracy: 0.9574\n",
      "Epoch 88/150\n",
      "6964/6964 [==============================] - 7s 998us/step - loss: 0.1286 - accuracy: 0.9577\n",
      "Epoch 89/150\n",
      "6964/6964 [==============================] - 7s 998us/step - loss: 0.1264 - accuracy: 0.9577\n",
      "Epoch 90/150\n",
      "6964/6964 [==============================] - 7s 976us/step - loss: 0.1259 - accuracy: 0.9581\n",
      "Epoch 91/150\n",
      "6964/6964 [==============================] - 7s 992us/step - loss: 0.1282 - accuracy: 0.9574\n",
      "Epoch 92/150\n",
      "6964/6964 [==============================] - 7s 1ms/step - loss: 0.1266 - accuracy: 0.9574\n",
      "Epoch 93/150\n",
      "6964/6964 [==============================] - 7s 1ms/step - loss: 0.1258 - accuracy: 0.9586\n",
      "Epoch 94/150\n",
      "6964/6964 [==============================] - 7s 1ms/step - loss: 0.1265 - accuracy: 0.9579\n",
      "Epoch 95/150\n",
      "6964/6964 [==============================] - 7s 1ms/step - loss: 0.1260 - accuracy: 0.9584\n",
      "Epoch 96/150\n",
      "6964/6964 [==============================] - 7s 1ms/step - loss: 0.1263 - accuracy: 0.9588\n",
      "Epoch 97/150\n",
      "6964/6964 [==============================] - 7s 991us/step - loss: 0.1278 - accuracy: 0.9584\n",
      "Epoch 98/150\n",
      "6964/6964 [==============================] - 7s 995us/step - loss: 0.1264 - accuracy: 0.9584\n",
      "Epoch 99/150\n",
      "6964/6964 [==============================] - 7s 980us/step - loss: 0.1270 - accuracy: 0.9578\n",
      "Epoch 100/150\n",
      "6964/6964 [==============================] - 7s 990us/step - loss: 0.1261 - accuracy: 0.9586\n",
      "Epoch 101/150\n",
      "6964/6964 [==============================] - 7s 994us/step - loss: 0.1245 - accuracy: 0.9590\n",
      "Epoch 102/150\n",
      "6964/6964 [==============================] - 7s 984us/step - loss: 0.1252 - accuracy: 0.9580\n",
      "Epoch 103/150\n",
      "6964/6964 [==============================] - 7s 988us/step - loss: 0.1250 - accuracy: 0.9585\n",
      "Epoch 104/150\n",
      "6964/6964 [==============================] - 7s 994us/step - loss: 0.1248 - accuracy: 0.9586\n",
      "Epoch 105/150\n",
      "6964/6964 [==============================] - 7s 1ms/step - loss: 0.1236 - accuracy: 0.9588\n",
      "Epoch 106/150\n",
      "6964/6964 [==============================] - 7s 1ms/step - loss: 0.1257 - accuracy: 0.9583\n",
      "Epoch 107/150\n",
      "6964/6964 [==============================] - 7s 1ms/step - loss: 0.1240 - accuracy: 0.9591\n",
      "Epoch 108/150\n",
      "6964/6964 [==============================] - 7s 1ms/step - loss: 0.1231 - accuracy: 0.9593\n",
      "Epoch 109/150\n",
      "6964/6964 [==============================] - 7s 1ms/step - loss: 0.1219 - accuracy: 0.9598\n",
      "Epoch 110/150\n",
      "6964/6964 [==============================] - 7s 1ms/step - loss: 0.1247 - accuracy: 0.9590\n",
      "Epoch 111/150\n",
      "6964/6964 [==============================] - 7s 1ms/step - loss: 0.1238 - accuracy: 0.9598\n",
      "Epoch 112/150\n",
      "6964/6964 [==============================] - 7s 1ms/step - loss: 0.1232 - accuracy: 0.9589\n",
      "Epoch 113/150\n",
      "6964/6964 [==============================] - 7s 1ms/step - loss: 0.1225 - accuracy: 0.9592\n",
      "Epoch 114/150\n",
      "6964/6964 [==============================] - 7s 1ms/step - loss: 0.1226 - accuracy: 0.9602\n",
      "Epoch 115/150\n",
      "6964/6964 [==============================] - 7s 1ms/step - loss: 0.1228 - accuracy: 0.9596\n",
      "Epoch 116/150\n",
      "6964/6964 [==============================] - 7s 1ms/step - loss: 0.1219 - accuracy: 0.9593\n",
      "Epoch 117/150\n",
      "6964/6964 [==============================] - 7s 1ms/step - loss: 0.1216 - accuracy: 0.9592\n",
      "Epoch 118/150\n",
      "6964/6964 [==============================] - 7s 1ms/step - loss: 0.1222 - accuracy: 0.9587\n",
      "Epoch 119/150\n",
      "6964/6964 [==============================] - 7s 1ms/step - loss: 0.1244 - accuracy: 0.9593\n",
      "Epoch 120/150\n",
      "6964/6964 [==============================] - 7s 1ms/step - loss: 0.1224 - accuracy: 0.9597\n",
      "Epoch 121/150\n",
      "6964/6964 [==============================] - 7s 1ms/step - loss: 0.1235 - accuracy: 0.9596\n",
      "Epoch 122/150\n",
      "6964/6964 [==============================] - 7s 1ms/step - loss: 0.1230 - accuracy: 0.9588\n",
      "Epoch 123/150\n",
      "6964/6964 [==============================] - 7s 1ms/step - loss: 0.1243 - accuracy: 0.9596\n",
      "Epoch 124/150\n",
      "6964/6964 [==============================] - 7s 1ms/step - loss: 0.1228 - accuracy: 0.9596\n",
      "Epoch 125/150\n",
      "6964/6964 [==============================] - 7s 1ms/step - loss: 0.1216 - accuracy: 0.9599\n",
      "Epoch 126/150\n",
      "6964/6964 [==============================] - 7s 1ms/step - loss: 0.1238 - accuracy: 0.9593\n",
      "Epoch 127/150\n",
      "6964/6964 [==============================] - 7s 1ms/step - loss: 0.1228 - accuracy: 0.9593\n",
      "Epoch 128/150\n",
      "6964/6964 [==============================] - 7s 1ms/step - loss: 0.1218 - accuracy: 0.9599\n",
      "Epoch 129/150\n",
      "6964/6964 [==============================] - 7s 1ms/step - loss: 0.1218 - accuracy: 0.9600\n",
      "Epoch 130/150\n",
      "6964/6964 [==============================] - 7s 1ms/step - loss: 0.1237 - accuracy: 0.9593\n",
      "Epoch 131/150\n",
      "6964/6964 [==============================] - 7s 1ms/step - loss: 0.1225 - accuracy: 0.9593\n",
      "Epoch 132/150\n",
      "6964/6964 [==============================] - 7s 1ms/step - loss: 0.1226 - accuracy: 0.9597\n",
      "Epoch 133/150\n",
      "6964/6964 [==============================] - 7s 1ms/step - loss: 0.1218 - accuracy: 0.9604\n",
      "Epoch 134/150\n",
      "6964/6964 [==============================] - 7s 1ms/step - loss: 0.1233 - accuracy: 0.9593\n",
      "Epoch 135/150\n",
      "6964/6964 [==============================] - 7s 1ms/step - loss: 0.1215 - accuracy: 0.9598\n",
      "Epoch 136/150\n",
      "6964/6964 [==============================] - 7s 1ms/step - loss: 0.1259 - accuracy: 0.9592\n",
      "Epoch 137/150\n",
      "6964/6964 [==============================] - 7s 1ms/step - loss: 0.1223 - accuracy: 0.9599\n",
      "Epoch 138/150\n",
      "6964/6964 [==============================] - 7s 1ms/step - loss: 0.1206 - accuracy: 0.9605\n",
      "Epoch 139/150\n",
      "6964/6964 [==============================] - 7s 1ms/step - loss: 0.1213 - accuracy: 0.9595\n",
      "Epoch 140/150\n",
      "6964/6964 [==============================] - 7s 1ms/step - loss: 0.1211 - accuracy: 0.9597\n",
      "Epoch 141/150\n",
      "6964/6964 [==============================] - 7s 1ms/step - loss: 0.1207 - accuracy: 0.9608\n",
      "Epoch 142/150\n",
      "6964/6964 [==============================] - 7s 1ms/step - loss: 0.1216 - accuracy: 0.9602\n",
      "Epoch 143/150\n",
      "6964/6964 [==============================] - 7s 1ms/step - loss: 0.1209 - accuracy: 0.9605\n",
      "Epoch 144/150\n",
      "6964/6964 [==============================] - 7s 1ms/step - loss: 0.1209 - accuracy: 0.9606\n",
      "Epoch 145/150\n",
      "6964/6964 [==============================] - 7s 1ms/step - loss: 0.1205 - accuracy: 0.9601\n",
      "Epoch 146/150\n",
      "6964/6964 [==============================] - 7s 1ms/step - loss: 0.1228 - accuracy: 0.9602\n",
      "Epoch 147/150\n",
      "6964/6964 [==============================] - 7s 1ms/step - loss: 0.1191 - accuracy: 0.9606\n",
      "Epoch 148/150\n",
      "6964/6964 [==============================] - 7s 1ms/step - loss: 0.1206 - accuracy: 0.9601\n",
      "Epoch 149/150\n",
      "6964/6964 [==============================] - 7s 1ms/step - loss: 0.1214 - accuracy: 0.9597\n",
      "Epoch 150/150\n",
      "6964/6964 [==============================] - 7s 1ms/step - loss: 0.1206 - accuracy: 0.9611\n"
     ]
    },
    {
     "data": {
      "text/plain": [
       "<keras.callbacks.History at 0x1b17db7b790>"
      ]
     },
     "execution_count": 103,
     "metadata": {},
     "output_type": "execute_result"
    }
   ],
   "source": [
    "model.fit(X_train, y_train, epochs=150, batch_size=10)"
   ]
  },
  {
   "cell_type": "code",
   "execution_count": 104,
   "id": "cf8926fc",
   "metadata": {},
   "outputs": [
    {
     "name": "stdout",
     "output_type": "stream",
     "text": [
      "544/544 [==============================] - 1s 853us/step\n"
     ]
    }
   ],
   "source": [
    "# predicting\n",
    "y_pred = (model.predict(X_test) > 0.5).astype(int)"
   ]
  },
  {
   "cell_type": "code",
   "execution_count": 105,
   "id": "eed3f274",
   "metadata": {},
   "outputs": [
    {
     "name": "stdout",
     "output_type": "stream",
     "text": [
      "Accuracy: 0.9624310661764706\n"
     ]
    }
   ],
   "source": [
    "# model accuracy\n",
    "print(\"Accuracy:\",metrics.accuracy_score(y_test, y_pred))"
   ]
  },
  {
   "cell_type": "code",
   "execution_count": 106,
   "id": "432edc17",
   "metadata": {},
   "outputs": [
    {
     "name": "stdout",
     "output_type": "stream",
     "text": [
      "Precision: 0.9475264035575319\n",
      "Recall: 0.9790924755887421\n"
     ]
    }
   ],
   "source": [
    "print(\"Precision:\",metrics.precision_score(y_test, y_pred))\n",
    "print(\"Recall:\",metrics.recall_score(y_test, y_pred))"
   ]
  },
  {
   "cell_type": "code",
   "execution_count": 107,
   "id": "3bc42261",
   "metadata": {},
   "outputs": [
    {
     "name": "stdout",
     "output_type": "stream",
     "text": [
      "[[8231  472]\n",
      " [ 182 8523]]\n",
      "              precision    recall  f1-score   support\n",
      "\n",
      "           0       0.98      0.95      0.96      8703\n",
      "           1       0.95      0.98      0.96      8705\n",
      "\n",
      "    accuracy                           0.96     17408\n",
      "   macro avg       0.96      0.96      0.96     17408\n",
      "weighted avg       0.96      0.96      0.96     17408\n",
      "\n"
     ]
    }
   ],
   "source": [
    "print(metrics.confusion_matrix(y_test, y_pred))\n",
    "\n",
    "print(metrics.classification_report(y_test, y_pred))"
   ]
  },
  {
   "cell_type": "markdown",
   "id": "da2a0d2c",
   "metadata": {},
   "source": [
    "## Result and Conclusion"
   ]
  },
  {
   "cell_type": "markdown",
   "id": "d6004ffb",
   "metadata": {},
   "source": [
    "<b>For the 50-50 split, the accuracy was as follows</b>\n",
    "<ol>\n",
    "<li>Random Forest Classifier\n",
    "    <ul><li>accuracy = 99.198</li></ul>\n",
    "    </li>\n",
    "<li>k-NN\n",
    "    <ul><li>accuracy = 98.903% for k=1</li>\n",
    "    <li>accuracy = 98.508% for k=3</li>\n",
    "    <li>accuracy = 98.136% for k=5</li>\n",
    "    <li>accuracy = 97.830% for k=7</li>\n",
    "    </ul>\n",
    "</li>\n",
    "<li>\n",
    "Decision Trees\n",
    "    <ul><li>accuracy = 96.656</li>\n",
    "    </ul>\n",
    "</li>\n",
    "<li>\n",
    "Naive Bayes\n",
    "    <ul><li>accuracy = 58.102</li>\n",
    "    </ul>\n",
    "</li>"
   ]
  },
  {
   "cell_type": "markdown",
   "id": "731c7f7d",
   "metadata": {},
   "source": [
    "<b>For the 80-20 split, the accuracy was as follows</b>\n",
    "<ol>\n",
    "    <li>Random Forest Classifier\n",
    "    <ul><li>accuracy = 99.207</li></ul>\n",
    "    </li>\n",
    "<li>k-NN\n",
    "    <ul><li>accuracy = 98.977% for k=1</li>\n",
    "    <li>accuracy = 98.805% for k=3</li>\n",
    "    <li>accuracy = 98.523% for k=5</li>\n",
    "    <li>accuracy = 98.247% for k=7</li>\n",
    "    </ul>\n",
    "</li>\n",
    "<li>\n",
    "Decision Trees\n",
    "    <ul><li>accuracy = 97.305</li>\n",
    "    </ul>\n",
    "</li>\n",
    "<li>\n",
    "Naive Bayes\n",
    "    <ul><li>accuracy = 58.013</li>\n",
    "    </ul>\n",
    "</li>\n",
    "</ol>"
   ]
  },
  {
   "cell_type": "markdown",
   "id": "7037a794",
   "metadata": {},
   "source": [
    "Hence it can be concluded that Random Forest Classifier yielded the best results in terms of accuracy. For precision, in the 80-20 split of the data, Random Forest was still the best with precision of 99.11. The highest recall was yielded by the kNN algorith in the 50-50 test-train split with k=5 with 99.543."
   ]
  },
  {
   "cell_type": "code",
   "execution_count": null,
   "id": "a0fccc68",
   "metadata": {},
   "outputs": [],
   "source": []
  }
 ],
 "metadata": {
  "kernelspec": {
   "display_name": "Python 3",
   "language": "python",
   "name": "python3"
  },
  "language_info": {
   "codemirror_mode": {
    "name": "ipython",
    "version": 3
   },
   "file_extension": ".py",
   "mimetype": "text/x-python",
   "name": "python",
   "nbconvert_exporter": "python",
   "pygments_lexer": "ipython3",
   "version": "3.8.8"
  }
 },
 "nbformat": 4,
 "nbformat_minor": 5
}
